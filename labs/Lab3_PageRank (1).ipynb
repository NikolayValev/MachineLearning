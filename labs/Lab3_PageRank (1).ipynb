{
 "cells": [
  {
   "cell_type": "markdown",
   "id": "8f290994",
   "metadata": {},
   "source": [
    "# CMPS 320\n",
    "## Lab 3:  Web Mining: Google PageRank"
   ]
  },
  {
   "cell_type": "markdown",
   "id": "021a2648",
   "metadata": {},
   "source": [
    "Create an empty graph: Our first example of a graph will be an empty graph. The following little Python script uses NetworkX to create an empty graph:\n",
    "\n"
   ]
  },
  {
   "cell_type": "code",
   "execution_count": 1,
   "id": "0e4047bf",
   "metadata": {},
   "outputs": [],
   "source": [
    "import matplotlib.pyplot as plt\n",
    "import networkx as nx\n",
    "import numpy as np\n",
    "\n",
    "G=nx.DiGraph(directed=True)\n"
   ]
  },
  {
   "cell_type": "markdown",
   "id": "24ba7c3b",
   "metadata": {},
   "source": [
    "Adding Nodes to our Graph: Now we will add some nodes to our graph. We can add a list of nodes with the method add_nodes_from():"
   ]
  },
  {
   "cell_type": "code",
   "execution_count": 2,
   "id": "25f1e086",
   "metadata": {},
   "outputs": [
    {
     "name": "stdout",
     "output_type": "stream",
     "text": [
      "Nodes of graph: \n",
      "['1', '2', '3', '4', '5']\n",
      "Edges of graph: \n",
      "[]\n"
     ]
    }
   ],
   "source": [
    "# a list of nodes:\n",
    "pages = [\"1\",\"2\",\"3\",\"4\",\"5\"]\n",
    "G.add_nodes_from(pages)\n",
    "\n",
    "print(\"Nodes of graph: \")\n",
    "print(G.nodes())\n",
    "print(\"Edges of graph: \")\n",
    "print(G.edges())"
   ]
  },
  {
   "cell_type": "markdown",
   "id": "e7532c65",
   "metadata": {},
   "source": [
    "Adding Edges to our Graph: G can also be created or increased by adding one edge at a time by the method add_edge(), which has the two nodes of the edge as the two parameters. We can add a bunch of edges as a list of edges in the form of 2 tuples."
   ]
  },
  {
   "cell_type": "code",
   "execution_count": 3,
   "id": "75cb6015",
   "metadata": {
    "scrolled": true
   },
   "outputs": [
    {
     "name": "stdout",
     "output_type": "stream",
     "text": [
      "Nodes of graph: \n",
      "['1', '2', '3', '4', '5']\n",
      "Edges of graph: \n",
      "[('1', '2'), ('1', '4'), ('2', '1'), ('3', '1'), ('3', '5'), ('4', '1'), ('4', '3'), ('4', '2')]\n",
      "Number of outward links for each node:\n",
      "['Page 1 = 2']\n",
      "['Page 2 = 1']\n",
      "['Page 3 = 2']\n",
      "['Page 4 = 3']\n",
      "['Page 5 = 0']\n"
     ]
    }
   ],
   "source": [
    "G.add_edges_from([('3','1'), ('1','2'),('2','1'), ('1','4'),('4','1'),('4','3'),('4','2'),('3','5')])\n",
    "print(\"Nodes of graph: \")\n",
    "print(G.nodes())\n",
    "print(\"Edges of graph: \")\n",
    "print(G.edges())\n",
    "\n",
    "# The function G.out_edges('node') returns the numbers of nodes 'node' links to.\n",
    "\n",
    "print(\"Number of outward links for each node:\")\n",
    "for page in pages:\n",
    "    print([\"Page %s = %s\"% (page,str(len(G.out_edges(page))))])"
   ]
  },
  {
   "cell_type": "markdown",
   "id": "2264d085",
   "metadata": {},
   "source": [
    "We can also print the resulting graph by using matplotlib:"
   ]
  },
  {
   "cell_type": "code",
   "execution_count": 4,
   "id": "cdc1ee00",
   "metadata": {
    "scrolled": false
   },
   "outputs": [
    {
     "data": {
      "image/png": "[encoded data removed]",
      "text/plain": [
       "<Figure size 432x288 with 1 Axes>"
      ]
     },
     "metadata": {},
     "output_type": "display_data"
    }
   ],
   "source": [
    "#pip install decorator==4.3\n",
    "nx.draw(G, with_labels = True)\n",
    "plt.draw() # display"
   ]
  },
  {
   "cell_type": "code",
   "execution_count": 5,
   "id": "4c65140c",
   "metadata": {
    "scrolled": true
   },
   "outputs": [
    {
     "data": {
      "text/plain": [
       "{'1': 0.35961294671974453,\n",
       " '2': 0.2538040970105064,\n",
       " '3': 0.10096842356898061,\n",
       " '4': 0.19776943401527197,\n",
       " '5': 0.08784509868549664}"
      ]
     },
     "execution_count": 5,
     "metadata": {},
     "output_type": "execute_result"
    }
   ],
   "source": [
    "# COMPUTE PageRank\n",
    "prank=nx.pagerank(G, alpha=0.85); \n",
    "prank "
   ]
  },
  {
   "cell_type": "markdown",
   "id": "8d6f639f",
   "metadata": {},
   "source": [
    "PageRank computes a ranking of the nodes in the graph G based on the structure of the incoming links. It was originally designed as an algorithm to rank web pages.\n",
    "\n",
    "The PageRank algorithm was designed for directed graphs but this algorithm does not check if the input graph is directed and will execute on undirected graphs by converting each edge in the directed graph to two edges."
   ]
  },
  {
   "cell_type": "code",
   "execution_count": null,
   "id": "6d26de30",
   "metadata": {},
   "outputs": [],
   "source": []
  }
 ],
 "metadata": {
  "interpreter": {
   "hash": "4edf81528f27573aba80c4a2f996bd4f26027e917223287f3cada8b77132d7c8"
  },
  "kernelspec": {
   "display_name": "Python 3.9.7 64-bit",
   "name": "python3"
  },
  "language_info": {
   "codemirror_mode": {
    "name": "ipython",
    "version": 3
   },
   "file_extension": ".py",
   "mimetype": "text/x-python",
   "name": "python",
   "nbconvert_exporter": "python",
   "pygments_lexer": "ipython3",
   "version": "3.9.7"
  }
 },
 "nbformat": 4,
 "nbformat_minor": 5
}
