{
 "cells": [
  {
   "cell_type": "markdown",
   "id": "813d3e43",
   "metadata": {},
   "source": [
    "# CMPS 320\n",
    "## Lab 7: Logistic Regression"
   ]
  },
  {
   "cell_type": "code",
   "execution_count": null,
   "id": "456d1101",
   "metadata": {},
   "outputs": [],
   "source": [
    "import pandas as pd\n",
    "import numpy as np\n",
    "import matplotlib as mpl\n",
    "import matplotlib.pyplot as plt\n",
    "import seaborn as sns\n",
    "\n",
    "import sklearn.linear_model as skl_lm\n",
    "from sklearn.metrics import confusion_matrix, classification_report, precision_score\n",
    "from sklearn import preprocessing\n",
    "\n",
    "\n",
    "import statsmodels.api as sm\n",
    "import statsmodels.formula.api as smf\n",
    "\n",
    "%matplotlib inline\n",
    "plt.style.use('seaborn-white')"
   ]
  },
  {
   "cell_type": "markdown",
   "id": "ec0671b7",
   "metadata": {},
   "source": [
    "### Data Description"
   ]
  },
  {
   "cell_type": "markdown",
   "id": "e48121cb",
   "metadata": {},
   "source": [
    "A simulated data set containing information on ten thousand customers. The aim here is to predict which customers will default on their credit card debt.\n",
    "\n",
    "#### Format\n",
    "\n",
    "A data frame with 10000 observations on the following 4 variables.\n",
    "\n",
    "***default***\n",
    "\n",
    "A factor with levels No and Yes indicating whether the customer defaulted on their debt\n",
    "\n",
    "***student***\n",
    "\n",
    "A factor with levels No and Yes indicating whether the customer is a student\n",
    "\n",
    "***balance***\n",
    "\n",
    "The average balance that the customer has remaining on their credit card after making their monthly payment\n",
    "\n",
    "***income***\n",
    "\n",
    "Income of customer"
   ]
  },
  {
   "cell_type": "code",
   "execution_count": null,
   "id": "afb740c7",
   "metadata": {},
   "outputs": [],
   "source": [
    "# Load data\n",
    "\n",
    "Default = pd.read_excel('Default.xlsx', index_col=0)"
   ]
  },
  {
   "cell_type": "code",
   "execution_count": null,
   "id": "0d50e1f0",
   "metadata": {},
   "outputs": [],
   "source": [
    "# Obtain summary of the dataframe\n",
    "Default.info()"
   ]
  },
  {
   "cell_type": "code",
   "execution_count": null,
   "id": "cba2d1a4",
   "metadata": {},
   "outputs": [],
   "source": [
    "# View the first five rows of the dataframe\n",
    "Default.head()"
   ]
  },
  {
   "cell_type": "code",
   "execution_count": null,
   "id": "573c0cda",
   "metadata": {},
   "outputs": [],
   "source": [
    "# Generate descriptive statistics\n",
    "Default.describe(include='all')"
   ]
  },
  {
   "cell_type": "code",
   "execution_count": null,
   "id": "1ecd4cb9",
   "metadata": {},
   "outputs": [],
   "source": [
    "# Check the target variable distribution\n",
    "Default.default.value_counts()"
   ]
  },
  {
   "cell_type": "markdown",
   "id": "bdf9e3cd",
   "metadata": {},
   "source": [
    "There are a total of 10000 elements in the default column, and there are 2 unique values 'No' and 'Yes'.\n",
    "\n",
    "The number of people who defaulted to \"Yes\" was 333 -- Only 3.3% of all 10,000 people.\n",
    "\n",
    "There are more cases of No than cases of Yes. \n",
    "\n",
    "When classifying like this, when the number of samples of one label/class is overwhelmingly large/small and thus out of balance with the number of samples of another class, this situation is called class imbalance."
   ]
  },
  {
   "cell_type": "code",
   "execution_count": null,
   "id": "2d21d52e",
   "metadata": {
    "scrolled": true
   },
   "outputs": [],
   "source": [
    "Default.student.value_counts()              "
   ]
  },
  {
   "cell_type": "markdown",
   "id": "f1858c88",
   "metadata": {},
   "source": [
    "About 30% of students default."
   ]
  },
  {
   "cell_type": "code",
   "execution_count": null,
   "id": "bcb78f8d",
   "metadata": {
    "scrolled": true
   },
   "outputs": [],
   "source": [
    "pd.crosstab(Default.student, Default.default)"
   ]
  },
  {
   "cell_type": "markdown",
   "id": "788b0a05",
   "metadata": {},
   "source": [
    "### Logistic Regression"
   ]
  },
  {
   "cell_type": "markdown",
   "id": "dbe09eda",
   "metadata": {},
   "source": [
    "Since scikit learn models only allow `numeric` features, category variables must be encoded using dummy variables."
   ]
  },
  {
   "cell_type": "code",
   "execution_count": null,
   "id": "59b1effd",
   "metadata": {},
   "outputs": [],
   "source": [
    "pd.get_dummies(Default).head()"
   ]
  },
  {
   "cell_type": "code",
   "execution_count": null,
   "id": "18324b12",
   "metadata": {},
   "outputs": [],
   "source": [
    "Default_enc = pd.get_dummies(Default, drop_first=True)\n",
    "Default_enc.head()"
   ]
  },
  {
   "cell_type": "markdown",
   "id": "be422e0a",
   "metadata": {},
   "source": [
    "**Note**: If 'default', default_Yes is 1 and  If 'student', student_Yes is 1"
   ]
  },
  {
   "cell_type": "markdown",
   "id": "23e1b378",
   "metadata": {},
   "source": [
    "### Logistic Regression Using scikit-learn"
   ]
  },
  {
   "cell_type": "code",
   "execution_count": null,
   "id": "7dda69f7",
   "metadata": {},
   "outputs": [],
   "source": [
    "# import scikit-learn LogisticRegression estimator\n",
    "from sklearn.linear_model import LogisticRegression"
   ]
  },
  {
   "cell_type": "markdown",
   "id": "e0456521",
   "metadata": {},
   "source": [
    "#### Category variable 'balance' as predictor"
   ]
  },
  {
   "cell_type": "code",
   "execution_count": null,
   "id": "d4f83544",
   "metadata": {},
   "outputs": [],
   "source": [
    "# Instantiate the estimator with the solver 'newton-cg' \n",
    "logistic_reg = LogisticRegression(solver='newton-cg')\n",
    "\n",
    "X = Default_enc.balance.values.reshape(-1, 1)  # Since LogisticRegression interfaces with X in 2D, reshape it into an nx1 matrix.\n",
    "\n",
    "# Default_Yes as Response\n",
    "y = Default_enc.default_Yes"
   ]
  },
  {
   "cell_type": "code",
   "execution_count": null,
   "id": "d3110560",
   "metadata": {},
   "outputs": [],
   "source": [
    "# Fit the model \n",
    "logistic_reg.fit(X, y)"
   ]
  },
  {
   "cell_type": "code",
   "execution_count": null,
   "id": "5d7f299f",
   "metadata": {},
   "outputs": [],
   "source": [
    "print('classes: ',logistic_reg.classes_)\n",
    "print('intercept :', logistic_reg.intercept_)\n",
    "print('coefficient: ',logistic_reg.coef_)       "
   ]
  },
  {
   "cell_type": "markdown",
   "id": "7d1af22f",
   "metadata": {},
   "source": [
    "For the Default data, estimated coefficients of the logistic regression model that predicts the probability of default using balance. \n",
    "\n",
    "**Interpretation**: A one-unit increase in balance is associated with an increase in the log odds of default by 0.0055 units."
   ]
  },
  {
   "cell_type": "markdown",
   "id": "1eab5168",
   "metadata": {},
   "source": [
    "#### Making Predictiions"
   ]
  },
  {
   "cell_type": "code",
   "execution_count": null,
   "id": "cf5b42e1",
   "metadata": {},
   "outputs": [],
   "source": [
    "X_new = np.array([1000, 2000, 1700]).reshape(-1,1)\n",
    "logistic_reg.predict_proba(X_new) # request a response from the logistic regression estimator with probability"
   ]
  },
  {
   "cell_type": "markdown",
   "id": "d1b7b1fb",
   "metadata": {},
   "source": [
    "We predict that the default probability for an individual with a balance of $1,000 is 0.00575.\n",
    "\n",
    "We predict that the default probability for an individual with a balance of $2,000 is 0.5857 which is much higher."
   ]
  },
  {
   "cell_type": "code",
   "execution_count": null,
   "id": "c046823c",
   "metadata": {
    "scrolled": true
   },
   "outputs": [],
   "source": [
    "# Request the estimated response as a class. \n",
    "y_pred = logistic_reg.predict(X_new) # default threshold is 0.5\n",
    "y_pred"
   ]
  },
  {
   "cell_type": "code",
   "execution_count": null,
   "id": "37e56122",
   "metadata": {
    "scrolled": true
   },
   "outputs": [],
   "source": [
    "threshold = 0.5 # Setting your own threshold\n",
    "y_pred = (logistic_reg.predict_proba(X_new)[:,1] <= threshold).astype(bool) # set threshold as 0.5\n",
    "y_pred"
   ]
  },
  {
   "cell_type": "markdown",
   "id": "8800de02",
   "metadata": {},
   "source": [
    "#### Category variable 'student_Yes' as predictor\n"
   ]
  },
  {
   "cell_type": "code",
   "execution_count": null,
   "id": "d447fe63",
   "metadata": {},
   "outputs": [],
   "source": [
    "logistic_reg = LogisticRegression(solver='newton-cg')  \n",
    "X = Default_enc.student_Yes.values.reshape(-1, 1)\n",
    "y = Default_enc.default_Yes\n",
    "logistic_reg.fit(X, y)\n",
    "print('classes: ',logistic_reg.classes_)\n",
    "print('intercept :', logistic_reg.intercept_)\n",
    "print('coefficient: ',logistic_reg.coef_)"
   ]
  },
  {
   "cell_type": "markdown",
   "id": "d5924c39",
   "metadata": {},
   "source": [
    "The coefficient corresponding to the student is 0.39, which is positive. That is, students are more likely to default.\n",
    "\n",
    "***Using the previous model to predict the default when you are a student and when you are not ***"
   ]
  },
  {
   "cell_type": "code",
   "execution_count": null,
   "id": "e01a1d6b",
   "metadata": {},
   "outputs": [],
   "source": [
    "X_new = np.array([1, 0]).reshape(-1,1)\n",
    "logistic_reg.predict_proba(X_new)"
   ]
  },
  {
   "cell_type": "code",
   "execution_count": null,
   "id": "4de9ce04",
   "metadata": {},
   "outputs": [],
   "source": [
    "y_pred = logistic_reg.predict(X_new) # default threshold is 0.5\n",
    "y_pred"
   ]
  },
  {
   "cell_type": "markdown",
   "id": "1b8694d8",
   "metadata": {},
   "source": [
    "In both cases, the model predicts 'default' = No (0) if only information on whether it is 'student' or 'not student' is provided as a predictor. \n",
    "\n",
    "These predictions are expected, because regardless of whether you are a student or not, most are not 'default'.\n",
    "\n",
    "The default probability for students is 0.043, which is slightly higher than 0.029 for non-students."
   ]
  },
  {
   "cell_type": "markdown",
   "id": "bd043e1b",
   "metadata": {},
   "source": [
    "### Multiple Logistic Regression"
   ]
  },
  {
   "cell_type": "code",
   "execution_count": null,
   "id": "9e1bd136",
   "metadata": {},
   "outputs": [],
   "source": [
    "Default_enc.head(3)"
   ]
  },
  {
   "cell_type": "code",
   "execution_count": null,
   "id": "894e21d6",
   "metadata": {},
   "outputs": [],
   "source": [
    "# Category variables 'balance', 'income', and 'student_Yes' as predictor\n",
    "X = Default_enc.loc[:, ['balance', 'income', 'student_Yes']]\n",
    "X['income'] = X['income']*0.001  # income was measured in thousands of dollars\n",
    "\n",
    "# Default_Yes as Response\n",
    "y = Default_enc.default_Yes"
   ]
  },
  {
   "cell_type": "code",
   "execution_count": null,
   "id": "646eda55",
   "metadata": {},
   "outputs": [],
   "source": [
    "X.head()"
   ]
  },
  {
   "cell_type": "code",
   "execution_count": null,
   "id": "82f16c84",
   "metadata": {},
   "outputs": [],
   "source": [
    "# Fit the model \n",
    "logistic_reg.fit(X, y)\n",
    "print('classes: ',logistic_reg.classes_)\n",
    "print('intercept :', logistic_reg.intercept_)\n",
    "print('coefficient: ')\n",
    "list(zip(X.columns, logistic_reg.coef_[0]) )"
   ]
  },
  {
   "cell_type": "markdown",
   "id": "9a230a2a",
   "metadata": {},
   "source": [
    "The negative coefficient for 'student_Yes' in the multiple logistic regression indicates that for a fixed value of balance and income, a student is less likely to default than a non-student."
   ]
  },
  {
   "cell_type": "code",
   "execution_count": null,
   "id": "a04612c8",
   "metadata": {},
   "outputs": [],
   "source": [
    "X_new = np.array([[1500, 40, 1],    # balance 1500, income 40, student\n",
    "                  [1500, 40, 0]])   # balance 1500, income 40, non-student\n",
    "logistic_reg.predict_proba(X_new)"
   ]
  },
  {
   "cell_type": "markdown",
   "id": "10e47adb",
   "metadata": {},
   "source": [
    "For non-students with a credit card balance of $\\$1,500$ and an income of $40,000, the probability of 'default' increased from 0.0595 to 0.105."
   ]
  },
  {
   "cell_type": "markdown",
   "id": "7350c17c",
   "metadata": {},
   "source": [
    "## Alternative Method: Multiple Logistic Regression Using statsmodels"
   ]
  },
  {
   "cell_type": "code",
   "execution_count": null,
   "id": "f0262d19",
   "metadata": {},
   "outputs": [],
   "source": [
    "import statsmodels.api as sm\n",
    "import statsmodels.formula.api as smf"
   ]
  },
  {
   "cell_type": "code",
   "execution_count": null,
   "id": "7985830f",
   "metadata": {},
   "outputs": [],
   "source": [
    "logreg_stats = smf.glm(formula = 'default ~ student + balance + income', \n",
    "                       data=Default, family=sm.families.Binomial()).fit()\n",
    "logreg_stats.summary()"
   ]
  },
  {
   "cell_type": "code",
   "execution_count": null,
   "id": "9725c9d0",
   "metadata": {},
   "outputs": [],
   "source": [
    "print(Default.default.value_counts())"
   ]
  },
  {
   "cell_type": "code",
   "execution_count": null,
   "id": "160614c1",
   "metadata": {},
   "outputs": [],
   "source": [
    "# If we do not give the fitted model a new predictor, it uses the probability of the response to the training set.\n",
    "logreg_stats_pred_prob = logreg_stats.predict()\n",
    "logreg_stats_pred_prob[:10] # Probability of 'Default'"
   ]
  },
  {
   "cell_type": "code",
   "execution_count": null,
   "id": "af684978",
   "metadata": {},
   "outputs": [],
   "source": [
    "logreg_stats_pred_class = [('No' if prob < 0.5 else 'Yes') for prob in logreg_stats_pred_prob ]\n",
    "logreg_stats_pred_class[:10]"
   ]
  },
  {
   "cell_type": "code",
   "execution_count": null,
   "id": "57445703",
   "metadata": {},
   "outputs": [],
   "source": [
    "# import estimator metrics \n",
    "from sklearn import metrics\n",
    "\n",
    "# confusion matrix \n",
    "conf_mat = metrics.confusion_matrix(Default.default.astype(str), logreg_stats_pred_class)\n",
    "print(conf_mat)"
   ]
  }
 ],
 "metadata": {
  "kernelspec": {
   "display_name": "Python 3",
   "language": "python",
   "name": "python3"
  },
  "language_info": {
   "codemirror_mode": {
    "name": "ipython",
    "version": 3
   },
   "file_extension": ".py",
   "mimetype": "text/x-python",
   "name": "python",
   "nbconvert_exporter": "python",
   "pygments_lexer": "ipython3",
   "version": "3.8.8"
  }
 },
 "nbformat": 4,
 "nbformat_minor": 5
}
