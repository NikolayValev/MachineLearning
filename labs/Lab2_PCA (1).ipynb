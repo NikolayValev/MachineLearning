{
 "cells": [
  {
   "cell_type": "markdown",
   "id": "f0b5d5e1",
   "metadata": {},
   "source": [
    "# CMPS 320\n",
    "## Lab 2:  Principal Component Analysis"
   ]
  },
  {
   "cell_type": "markdown",
   "id": "2d4956a8",
   "metadata": {},
   "source": [
    "We illustrate the use of PCA on the USArrests data set. \n",
    "\n",
    "For each of the 50 states in the United States, the data set contains the number of arrests\n",
    "per 100, 000 residents for each of three crimes: Assault, Murder, and Rape.\n",
    "\n",
    "We also record UrbanPop (the percent of the population in each state living\n",
    "in urban areas). The principal component score vectors have length $n = 50$,\n",
    "and the principal component loading vectors have length $p = 4$. \n",
    "\n",
    "PCA was performed after standardizing each variable to have mean zero and standard\n",
    "deviation one."
   ]
  },
  {
   "cell_type": "code",
   "execution_count": 2,
   "id": "3afe1d73",
   "metadata": {},
   "outputs": [],
   "source": [
    "import pandas as pd\n",
    "import numpy as np\n",
    "import matplotlib.pyplot as plt\n",
    "import seaborn as sns\n",
    "\n",
    "from sklearn import decomposition\n",
    "from sklearn import preprocessing\n",
    "from sklearn import metrics  \n",
    "\n",
    "%matplotlib inline\n",
    "plt.style.use('seaborn-white')"
   ]
  },
  {
   "cell_type": "code",
   "execution_count": 3,
   "id": "48493014",
   "metadata": {},
   "outputs": [
    {
     "name": "stdout",
     "output_type": "stream",
     "text": [
      "<class 'pandas.core.frame.DataFrame'>\n",
      "Index: 50 entries, Alabama to Wyoming\n",
      "Data columns (total 4 columns):\n",
      " #   Column    Non-Null Count  Dtype  \n",
      "---  ------    --------------  -----  \n",
      " 0   Murder    50 non-null     float64\n",
      " 1   Assault   50 non-null     int64  \n",
      " 2   UrbanPop  50 non-null     int64  \n",
      " 3   Rape      50 non-null     float64\n",
      "dtypes: float64(2), int64(2)\n",
      "memory usage: 2.0+ KB\n",
      "None\n"
     ]
    },
    {
     "data": {
      "text/html": [
       "<div>\n",
       "<style scoped>\n",
       "    .dataframe tbody tr th:only-of-type {\n",
       "        vertical-align: middle;\n",
       "    }\n",
       "\n",
       "    .dataframe tbody tr th {\n",
       "        vertical-align: top;\n",
       "    }\n",
       "\n",
       "    .dataframe thead th {\n",
       "        text-align: right;\n",
       "    }\n",
       "</style>\n",
       "<table border=\"1\" class=\"dataframe\">\n",
       "  <thead>\n",
       "    <tr style=\"text-align: right;\">\n",
       "      <th></th>\n",
       "      <th>Murder</th>\n",
       "      <th>Assault</th>\n",
       "      <th>UrbanPop</th>\n",
       "      <th>Rape</th>\n",
       "    </tr>\n",
       "  </thead>\n",
       "  <tbody>\n",
       "    <tr>\n",
       "      <th>Alabama</th>\n",
       "      <td>13.2</td>\n",
       "      <td>236</td>\n",
       "      <td>58</td>\n",
       "      <td>21.2</td>\n",
       "    </tr>\n",
       "    <tr>\n",
       "      <th>Alaska</th>\n",
       "      <td>10.0</td>\n",
       "      <td>263</td>\n",
       "      <td>48</td>\n",
       "      <td>44.5</td>\n",
       "    </tr>\n",
       "    <tr>\n",
       "      <th>Arizona</th>\n",
       "      <td>8.1</td>\n",
       "      <td>294</td>\n",
       "      <td>80</td>\n",
       "      <td>31.0</td>\n",
       "    </tr>\n",
       "  </tbody>\n",
       "</table>\n",
       "</div>"
      ],
      "text/plain": [
       "         Murder  Assault  UrbanPop  Rape\n",
       "Alabama    13.2      236        58  21.2\n",
       "Alaska     10.0      263        48  44.5\n",
       "Arizona     8.1      294        80  31.0"
      ]
     },
     "execution_count": 3,
     "metadata": {},
     "output_type": "execute_result"
    }
   ],
   "source": [
    "# Load Data and Inspect \n",
    "USArrests = pd.read_csv('USArrests.csv', index_col=0)\n",
    "print(USArrests.info())\n",
    "USArrests.head(3)"
   ]
  },
  {
   "cell_type": "code",
   "execution_count": 4,
   "id": "46ad1291",
   "metadata": {},
   "outputs": [
    {
     "data": {
      "text/html": [
       "<div>\n",
       "<style scoped>\n",
       "    .dataframe tbody tr th:only-of-type {\n",
       "        vertical-align: middle;\n",
       "    }\n",
       "\n",
       "    .dataframe tbody tr th {\n",
       "        vertical-align: top;\n",
       "    }\n",
       "\n",
       "    .dataframe thead th {\n",
       "        text-align: right;\n",
       "    }\n",
       "</style>\n",
       "<table border=\"1\" class=\"dataframe\">\n",
       "  <thead>\n",
       "    <tr style=\"text-align: right;\">\n",
       "      <th></th>\n",
       "      <th>Murder</th>\n",
       "      <th>Assault</th>\n",
       "      <th>UrbanPop</th>\n",
       "      <th>Rape</th>\n",
       "    </tr>\n",
       "  </thead>\n",
       "  <tbody>\n",
       "    <tr>\n",
       "      <th>count</th>\n",
       "      <td>50.00000</td>\n",
       "      <td>50.000000</td>\n",
       "      <td>50.000000</td>\n",
       "      <td>50.000000</td>\n",
       "    </tr>\n",
       "    <tr>\n",
       "      <th>mean</th>\n",
       "      <td>7.78800</td>\n",
       "      <td>170.760000</td>\n",
       "      <td>65.540000</td>\n",
       "      <td>21.232000</td>\n",
       "    </tr>\n",
       "    <tr>\n",
       "      <th>std</th>\n",
       "      <td>4.35551</td>\n",
       "      <td>83.337661</td>\n",
       "      <td>14.474763</td>\n",
       "      <td>9.366385</td>\n",
       "    </tr>\n",
       "    <tr>\n",
       "      <th>min</th>\n",
       "      <td>0.80000</td>\n",
       "      <td>45.000000</td>\n",
       "      <td>32.000000</td>\n",
       "      <td>7.300000</td>\n",
       "    </tr>\n",
       "    <tr>\n",
       "      <th>25%</th>\n",
       "      <td>4.07500</td>\n",
       "      <td>109.000000</td>\n",
       "      <td>54.500000</td>\n",
       "      <td>15.075000</td>\n",
       "    </tr>\n",
       "    <tr>\n",
       "      <th>50%</th>\n",
       "      <td>7.25000</td>\n",
       "      <td>159.000000</td>\n",
       "      <td>66.000000</td>\n",
       "      <td>20.100000</td>\n",
       "    </tr>\n",
       "    <tr>\n",
       "      <th>75%</th>\n",
       "      <td>11.25000</td>\n",
       "      <td>249.000000</td>\n",
       "      <td>77.750000</td>\n",
       "      <td>26.175000</td>\n",
       "    </tr>\n",
       "    <tr>\n",
       "      <th>max</th>\n",
       "      <td>17.40000</td>\n",
       "      <td>337.000000</td>\n",
       "      <td>91.000000</td>\n",
       "      <td>46.000000</td>\n",
       "    </tr>\n",
       "  </tbody>\n",
       "</table>\n",
       "</div>"
      ],
      "text/plain": [
       "         Murder     Assault   UrbanPop       Rape\n",
       "count  50.00000   50.000000  50.000000  50.000000\n",
       "mean    7.78800  170.760000  65.540000  21.232000\n",
       "std     4.35551   83.337661  14.474763   9.366385\n",
       "min     0.80000   45.000000  32.000000   7.300000\n",
       "25%     4.07500  109.000000  54.500000  15.075000\n",
       "50%     7.25000  159.000000  66.000000  20.100000\n",
       "75%    11.25000  249.000000  77.750000  26.175000\n",
       "max    17.40000  337.000000  91.000000  46.000000"
      ]
     },
     "execution_count": 4,
     "metadata": {},
     "output_type": "execute_result"
    }
   ],
   "source": [
    "# Computes a summary of statistics USArrests\n",
    "USArrests.describe()"
   ]
  },
  {
   "cell_type": "markdown",
   "id": "ca699cc7",
   "metadata": {},
   "source": [
    "### A simple PCA Implementation"
   ]
  },
  {
   "cell_type": "markdown",
   "id": "ac93fb04",
   "metadata": {},
   "source": [
    "Acquire PCA through direct standardization, covariance matrix, and eigen decomposition"
   ]
  },
  {
   "cell_type": "code",
   "execution_count": 5,
   "id": "96afa730",
   "metadata": {},
   "outputs": [],
   "source": [
    "def simple_PCA(data_mat):\n",
    "    data_mat_standardized = preprocessing.scale(data_mat, axis=0)  # standardize (zero mean, sd=1)\n",
    "    cov_mat = np.cov(data_mat_standardized, rowvar=False)   # Covariance matrix\n",
    "    eigen_vals, eigen_vecs = np.linalg.eig(cov_mat)          # eigen value/vector decomposition \n",
    "    idx = np.argsort(np.abs(eigen_vals))[::-1]  # sort abs(eigenvalue) from largest, & return args\n",
    "    pc_loadings = eigen_vecs[:,idx]      # re-arrange eigenvectors along the magniture of eigenvalues \n",
    "    pc_scores = np.dot(data_mat_standardized, pc_loadings)     # Compute Principal Component Score \n",
    "    return(eigen_vals[idx], pc_loadings, pc_scores)     # Returns 3 tuple: eigen values, eigen vectors/loadings, PC scores \n"
   ]
  },
  {
   "cell_type": "code",
   "execution_count": 6,
   "id": "e51bf332",
   "metadata": {},
   "outputs": [],
   "source": [
    "# Perform PCA on 'USArrests' with 'simple_PCA' \n",
    "eigen_vals, eigen_vecs, pc_scores = simple_PCA(USArrests)   # eigen_vecs : PCs (loadings)"
   ]
  },
  {
   "cell_type": "code",
   "execution_count": 7,
   "id": "a916cafc",
   "metadata": {},
   "outputs": [
    {
     "data": {
      "text/plain": [
       "array([2.53085875, 1.00996444, 0.36383998, 0.17696948])"
      ]
     },
     "execution_count": 7,
     "metadata": {},
     "output_type": "execute_result"
    }
   ],
   "source": [
    "# Eigen values\n",
    "eigen_vals"
   ]
  },
  {
   "cell_type": "code",
   "execution_count": 8,
   "id": "2019abc8",
   "metadata": {},
   "outputs": [
    {
     "data": {
      "text/plain": [
       "array([[ 0.53589947,  0.41818087, -0.34123273,  0.6492278 ],\n",
       "       [ 0.58318363,  0.1879856 , -0.26814843, -0.74340748],\n",
       "       [ 0.27819087, -0.87280619, -0.37801579,  0.13387773],\n",
       "       [ 0.54343209, -0.16731864,  0.81777791,  0.08902432]])"
      ]
     },
     "execution_count": 8,
     "metadata": {},
     "output_type": "execute_result"
    }
   ],
   "source": [
    "# Eigen Vectors\n",
    "eigen_vecs"
   ]
  },
  {
   "cell_type": "code",
   "execution_count": 9,
   "id": "cfa4ccc7",
   "metadata": {},
   "outputs": [
    {
     "name": "stdout",
     "output_type": "stream",
     "text": [
      "(50, 4)\n"
     ]
    },
    {
     "data": {
      "text/plain": [
       "array([ 0.98556588,  1.95013775,  1.76316354, -0.14142029,  2.52398013,\n",
       "        1.51456286, -1.35864746,  0.04770931,  3.01304227,  1.63928304,\n",
       "       -0.91265715, -1.63979985,  1.37891072, -0.50546136, -2.25364607,\n",
       "       -0.79688112, -0.75085907,  1.56481798, -2.39682949,  1.76336939,\n",
       "       -0.48616629,  2.10844115, -1.69268181,  0.99649446,  0.69678733,\n",
       "       -1.18545191, -1.26563654,  2.87439454, -2.38391541,  0.18156611,\n",
       "        1.98002375,  1.68257738,  1.12337861, -2.99222562, -0.22596542,\n",
       "       -0.31178286,  0.05912208, -0.88841582, -0.86377206,  1.3207238 ,\n",
       "       -1.98777484,  0.99974168,  1.35513821, -0.55056526, -2.80141174,\n",
       "       -0.09633491, -0.21690338, -2.10858541, -2.07971417, -0.62942666])"
      ]
     },
     "execution_count": 9,
     "metadata": {},
     "output_type": "execute_result"
    }
   ],
   "source": [
    "print(pc_scores.shape)\n",
    "pc_scores[:,0] # First PC score"
   ]
  },
  {
   "cell_type": "markdown",
   "id": "9b9662a5",
   "metadata": {},
   "source": [
    "### PCA using scikit-learn"
   ]
  },
  {
   "cell_type": "code",
   "execution_count": 10,
   "id": "06bd876d",
   "metadata": {},
   "outputs": [],
   "source": [
    "USArrests_standardized = preprocessing.scale(USArrests, axis=0)  # standardization \n",
    "\n",
    "# Instantiate PCA estimator \n",
    "pca = decomposition.PCA()\n",
    "# fit : Run PCA\n",
    "USArrests_PC = pca.fit(USArrests_standardized)"
   ]
  },
  {
   "cell_type": "code",
   "execution_count": 11,
   "id": "f9453c1a",
   "metadata": {},
   "outputs": [
    {
     "data": {
      "text/plain": [
       "{'n_components': None,\n",
       " 'copy': True,\n",
       " 'whiten': False,\n",
       " 'svd_solver': 'auto',\n",
       " 'tol': 0.0,\n",
       " 'iterated_power': 'auto',\n",
       " 'random_state': None,\n",
       " 'n_features_in_': 4,\n",
       " '_fit_svd_solver': 'full',\n",
       " 'mean_': array([-7.10542736e-17,  1.38777878e-16, -4.39648318e-16,  8.59312621e-16]),\n",
       " 'noise_variance_': 0.0,\n",
       " 'n_samples_': 50,\n",
       " 'n_features_': 4,\n",
       " 'components_': array([[ 0.53589947,  0.58318363,  0.27819087,  0.54343209],\n",
       "        [ 0.41818087,  0.1879856 , -0.87280619, -0.16731864],\n",
       "        [-0.34123273, -0.26814843, -0.37801579,  0.81777791],\n",
       "        [ 0.6492278 , -0.74340748,  0.13387773,  0.08902432]]),\n",
       " 'n_components_': 4,\n",
       " 'explained_variance_': array([2.53085875, 1.00996444, 0.36383998, 0.17696948]),\n",
       " 'explained_variance_ratio_': array([0.62006039, 0.24744129, 0.0891408 , 0.04335752]),\n",
       " 'singular_values_': array([11.13607107,  7.0347891 ,  4.22234047,  2.94474182])}"
      ]
     },
     "execution_count": 11,
     "metadata": {},
     "output_type": "execute_result"
    }
   ],
   "source": [
    "# See what attributes/operations are there in a PC object\n",
    "vars(USArrests_PC)"
   ]
  },
  {
   "cell_type": "code",
   "execution_count": 12,
   "id": "26db2c8e",
   "metadata": {},
   "outputs": [
    {
     "name": "stdout",
     "output_type": "stream",
     "text": [
      "[[ 0.53589947  0.41818087 -0.34123273  0.6492278 ]\n",
      " [ 0.58318363  0.1879856  -0.26814843 -0.74340748]\n",
      " [ 0.27819087 -0.87280619 -0.37801579  0.13387773]\n",
      " [ 0.54343209 -0.16731864  0.81777791  0.08902432]]\n"
     ]
    },
    {
     "data": {
      "text/html": [
       "<div>\n",
       "<style scoped>\n",
       "    .dataframe tbody tr th:only-of-type {\n",
       "        vertical-align: middle;\n",
       "    }\n",
       "\n",
       "    .dataframe tbody tr th {\n",
       "        vertical-align: top;\n",
       "    }\n",
       "\n",
       "    .dataframe thead th {\n",
       "        text-align: right;\n",
       "    }\n",
       "</style>\n",
       "<table border=\"1\" class=\"dataframe\">\n",
       "  <thead>\n",
       "    <tr style=\"text-align: right;\">\n",
       "      <th></th>\n",
       "      <th>PC1</th>\n",
       "      <th>PC2</th>\n",
       "      <th>PC3</th>\n",
       "      <th>PC4</th>\n",
       "    </tr>\n",
       "  </thead>\n",
       "  <tbody>\n",
       "    <tr>\n",
       "      <th>Murder</th>\n",
       "      <td>0.535899</td>\n",
       "      <td>0.418181</td>\n",
       "      <td>-0.341233</td>\n",
       "      <td>0.649228</td>\n",
       "    </tr>\n",
       "    <tr>\n",
       "      <th>Assault</th>\n",
       "      <td>0.583184</td>\n",
       "      <td>0.187986</td>\n",
       "      <td>-0.268148</td>\n",
       "      <td>-0.743407</td>\n",
       "    </tr>\n",
       "    <tr>\n",
       "      <th>UrbanPop</th>\n",
       "      <td>0.278191</td>\n",
       "      <td>-0.872806</td>\n",
       "      <td>-0.378016</td>\n",
       "      <td>0.133878</td>\n",
       "    </tr>\n",
       "    <tr>\n",
       "      <th>Rape</th>\n",
       "      <td>0.543432</td>\n",
       "      <td>-0.167319</td>\n",
       "      <td>0.817778</td>\n",
       "      <td>0.089024</td>\n",
       "    </tr>\n",
       "  </tbody>\n",
       "</table>\n",
       "</div>"
      ],
      "text/plain": [
       "               PC1       PC2       PC3       PC4\n",
       "Murder    0.535899  0.418181 -0.341233  0.649228\n",
       "Assault   0.583184  0.187986 -0.268148 -0.743407\n",
       "UrbanPop  0.278191 -0.872806 -0.378016  0.133878\n",
       "Rape      0.543432 -0.167319  0.817778  0.089024"
      ]
     },
     "execution_count": 12,
     "metadata": {},
     "output_type": "execute_result"
    }
   ],
   "source": [
    "# The principal component loading vectors, φ1 and φ2, for the USArrests data.\n",
    "\n",
    "PCs = pd.DataFrame(USArrests_PC.components_.T, index=USArrests.columns,\n",
    "            columns=['PC1', 'PC2','PC3','PC4'])\n",
    "\n",
    "print(eigen_vecs)   # PC loadings obtained directly with simple_PCA'\n",
    "PCs                 # PC loadings saved with Scikit-learn"
   ]
  },
  {
   "cell_type": "markdown",
   "id": "9760f608",
   "metadata": {},
   "source": [
    "**Note**: The two produced the same results. The principal component is the same even if the sign is changed."
   ]
  },
  {
   "cell_type": "code",
   "execution_count": 13,
   "id": "6ddab4e8",
   "metadata": {},
   "outputs": [
    {
     "data": {
      "text/html": [
       "<div>\n",
       "<style scoped>\n",
       "    .dataframe tbody tr th:only-of-type {\n",
       "        vertical-align: middle;\n",
       "    }\n",
       "\n",
       "    .dataframe tbody tr th {\n",
       "        vertical-align: top;\n",
       "    }\n",
       "\n",
       "    .dataframe thead th {\n",
       "        text-align: right;\n",
       "    }\n",
       "</style>\n",
       "<table border=\"1\" class=\"dataframe\">\n",
       "  <thead>\n",
       "    <tr style=\"text-align: right;\">\n",
       "      <th></th>\n",
       "      <th>PC1</th>\n",
       "      <th>PC2</th>\n",
       "      <th>PC3</th>\n",
       "      <th>PC4</th>\n",
       "    </tr>\n",
       "  </thead>\n",
       "  <tbody>\n",
       "    <tr>\n",
       "      <th>Alabama</th>\n",
       "      <td>0.985566</td>\n",
       "      <td>1.133392</td>\n",
       "      <td>-0.444269</td>\n",
       "      <td>0.156267</td>\n",
       "    </tr>\n",
       "    <tr>\n",
       "      <th>Alaska</th>\n",
       "      <td>1.950138</td>\n",
       "      <td>1.073213</td>\n",
       "      <td>2.040003</td>\n",
       "      <td>-0.438583</td>\n",
       "    </tr>\n",
       "    <tr>\n",
       "      <th>Arizona</th>\n",
       "      <td>1.763164</td>\n",
       "      <td>-0.745957</td>\n",
       "      <td>0.054781</td>\n",
       "      <td>-0.834653</td>\n",
       "    </tr>\n",
       "    <tr>\n",
       "      <th>Arkansas</th>\n",
       "      <td>-0.141420</td>\n",
       "      <td>1.119797</td>\n",
       "      <td>0.114574</td>\n",
       "      <td>-0.182811</td>\n",
       "    </tr>\n",
       "    <tr>\n",
       "      <th>California</th>\n",
       "      <td>2.523980</td>\n",
       "      <td>-1.542934</td>\n",
       "      <td>0.598557</td>\n",
       "      <td>-0.341996</td>\n",
       "    </tr>\n",
       "    <tr>\n",
       "      <th>Colorado</th>\n",
       "      <td>1.514563</td>\n",
       "      <td>-0.987555</td>\n",
       "      <td>1.095007</td>\n",
       "      <td>0.001465</td>\n",
       "    </tr>\n",
       "    <tr>\n",
       "      <th>Connecticut</th>\n",
       "      <td>-1.358647</td>\n",
       "      <td>-1.088928</td>\n",
       "      <td>-0.643258</td>\n",
       "      <td>-0.118469</td>\n",
       "    </tr>\n",
       "    <tr>\n",
       "      <th>Delaware</th>\n",
       "      <td>0.047709</td>\n",
       "      <td>-0.325359</td>\n",
       "      <td>-0.718633</td>\n",
       "      <td>-0.881978</td>\n",
       "    </tr>\n",
       "    <tr>\n",
       "      <th>Florida</th>\n",
       "      <td>3.013042</td>\n",
       "      <td>0.039229</td>\n",
       "      <td>-0.576829</td>\n",
       "      <td>-0.096285</td>\n",
       "    </tr>\n",
       "    <tr>\n",
       "      <th>Georgia</th>\n",
       "      <td>1.639283</td>\n",
       "      <td>1.278942</td>\n",
       "      <td>-0.342460</td>\n",
       "      <td>1.076797</td>\n",
       "    </tr>\n",
       "    <tr>\n",
       "      <th>Hawaii</th>\n",
       "      <td>-0.912657</td>\n",
       "      <td>-1.570460</td>\n",
       "      <td>0.050782</td>\n",
       "      <td>0.902807</td>\n",
       "    </tr>\n",
       "    <tr>\n",
       "      <th>Idaho</th>\n",
       "      <td>-1.639800</td>\n",
       "      <td>0.210973</td>\n",
       "      <td>0.259801</td>\n",
       "      <td>-0.499104</td>\n",
       "    </tr>\n",
       "    <tr>\n",
       "      <th>Illinois</th>\n",
       "      <td>1.378911</td>\n",
       "      <td>-0.681841</td>\n",
       "      <td>-0.677496</td>\n",
       "      <td>-0.122021</td>\n",
       "    </tr>\n",
       "    <tr>\n",
       "      <th>Indiana</th>\n",
       "      <td>-0.505461</td>\n",
       "      <td>-0.151563</td>\n",
       "      <td>0.228055</td>\n",
       "      <td>0.424666</td>\n",
       "    </tr>\n",
       "    <tr>\n",
       "      <th>Iowa</th>\n",
       "      <td>-2.253646</td>\n",
       "      <td>-0.104054</td>\n",
       "      <td>0.164564</td>\n",
       "      <td>0.017556</td>\n",
       "    </tr>\n",
       "    <tr>\n",
       "      <th>Kansas</th>\n",
       "      <td>-0.796881</td>\n",
       "      <td>-0.270165</td>\n",
       "      <td>0.025553</td>\n",
       "      <td>0.206496</td>\n",
       "    </tr>\n",
       "    <tr>\n",
       "      <th>Kentucky</th>\n",
       "      <td>-0.750859</td>\n",
       "      <td>0.958440</td>\n",
       "      <td>-0.028369</td>\n",
       "      <td>0.670557</td>\n",
       "    </tr>\n",
       "    <tr>\n",
       "      <th>Louisiana</th>\n",
       "      <td>1.564818</td>\n",
       "      <td>0.871055</td>\n",
       "      <td>-0.783480</td>\n",
       "      <td>0.454728</td>\n",
       "    </tr>\n",
       "    <tr>\n",
       "      <th>Maine</th>\n",
       "      <td>-2.396829</td>\n",
       "      <td>0.376392</td>\n",
       "      <td>-0.065682</td>\n",
       "      <td>-0.330460</td>\n",
       "    </tr>\n",
       "    <tr>\n",
       "      <th>Maryland</th>\n",
       "      <td>1.763369</td>\n",
       "      <td>0.427655</td>\n",
       "      <td>-0.157250</td>\n",
       "      <td>-0.559070</td>\n",
       "    </tr>\n",
       "    <tr>\n",
       "      <th>Massachusetts</th>\n",
       "      <td>-0.486166</td>\n",
       "      <td>-1.474496</td>\n",
       "      <td>-0.609497</td>\n",
       "      <td>-0.179599</td>\n",
       "    </tr>\n",
       "    <tr>\n",
       "      <th>Michigan</th>\n",
       "      <td>2.108441</td>\n",
       "      <td>-0.155397</td>\n",
       "      <td>0.384869</td>\n",
       "      <td>0.102372</td>\n",
       "    </tr>\n",
       "    <tr>\n",
       "      <th>Minnesota</th>\n",
       "      <td>-1.692682</td>\n",
       "      <td>-0.632261</td>\n",
       "      <td>0.153070</td>\n",
       "      <td>0.067317</td>\n",
       "    </tr>\n",
       "    <tr>\n",
       "      <th>Mississippi</th>\n",
       "      <td>0.996494</td>\n",
       "      <td>2.393796</td>\n",
       "      <td>-0.740808</td>\n",
       "      <td>0.215508</td>\n",
       "    </tr>\n",
       "    <tr>\n",
       "      <th>Missouri</th>\n",
       "      <td>0.696787</td>\n",
       "      <td>-0.263355</td>\n",
       "      <td>0.377444</td>\n",
       "      <td>0.225824</td>\n",
       "    </tr>\n",
       "    <tr>\n",
       "      <th>Montana</th>\n",
       "      <td>-1.185452</td>\n",
       "      <td>0.536874</td>\n",
       "      <td>0.246889</td>\n",
       "      <td>0.123742</td>\n",
       "    </tr>\n",
       "    <tr>\n",
       "      <th>Nebraska</th>\n",
       "      <td>-1.265637</td>\n",
       "      <td>-0.193954</td>\n",
       "      <td>0.175574</td>\n",
       "      <td>0.015893</td>\n",
       "    </tr>\n",
       "    <tr>\n",
       "      <th>Nevada</th>\n",
       "      <td>2.874395</td>\n",
       "      <td>-0.775600</td>\n",
       "      <td>1.163380</td>\n",
       "      <td>0.314515</td>\n",
       "    </tr>\n",
       "    <tr>\n",
       "      <th>New Hampshire</th>\n",
       "      <td>-2.383915</td>\n",
       "      <td>-0.018082</td>\n",
       "      <td>0.036855</td>\n",
       "      <td>-0.033137</td>\n",
       "    </tr>\n",
       "    <tr>\n",
       "      <th>New Jersey</th>\n",
       "      <td>0.181566</td>\n",
       "      <td>-1.449506</td>\n",
       "      <td>-0.764454</td>\n",
       "      <td>0.243383</td>\n",
       "    </tr>\n",
       "    <tr>\n",
       "      <th>New Mexico</th>\n",
       "      <td>1.980024</td>\n",
       "      <td>0.142849</td>\n",
       "      <td>0.183692</td>\n",
       "      <td>-0.339534</td>\n",
       "    </tr>\n",
       "    <tr>\n",
       "      <th>New York</th>\n",
       "      <td>1.682577</td>\n",
       "      <td>-0.823184</td>\n",
       "      <td>-0.643075</td>\n",
       "      <td>-0.013484</td>\n",
       "    </tr>\n",
       "    <tr>\n",
       "      <th>North Carolina</th>\n",
       "      <td>1.123379</td>\n",
       "      <td>2.228003</td>\n",
       "      <td>-0.863572</td>\n",
       "      <td>-0.954382</td>\n",
       "    </tr>\n",
       "    <tr>\n",
       "      <th>North Dakota</th>\n",
       "      <td>-2.992226</td>\n",
       "      <td>0.599119</td>\n",
       "      <td>0.301277</td>\n",
       "      <td>-0.253987</td>\n",
       "    </tr>\n",
       "    <tr>\n",
       "      <th>Ohio</th>\n",
       "      <td>-0.225965</td>\n",
       "      <td>-0.742238</td>\n",
       "      <td>-0.031139</td>\n",
       "      <td>0.473916</td>\n",
       "    </tr>\n",
       "    <tr>\n",
       "      <th>Oklahoma</th>\n",
       "      <td>-0.311783</td>\n",
       "      <td>-0.287854</td>\n",
       "      <td>-0.015310</td>\n",
       "      <td>0.010332</td>\n",
       "    </tr>\n",
       "    <tr>\n",
       "      <th>Oregon</th>\n",
       "      <td>0.059122</td>\n",
       "      <td>-0.541411</td>\n",
       "      <td>0.939833</td>\n",
       "      <td>-0.237781</td>\n",
       "    </tr>\n",
       "    <tr>\n",
       "      <th>Pennsylvania</th>\n",
       "      <td>-0.888416</td>\n",
       "      <td>-0.571100</td>\n",
       "      <td>-0.400629</td>\n",
       "      <td>0.359061</td>\n",
       "    </tr>\n",
       "    <tr>\n",
       "      <th>Rhode Island</th>\n",
       "      <td>-0.863772</td>\n",
       "      <td>-1.491978</td>\n",
       "      <td>-1.369946</td>\n",
       "      <td>-0.613569</td>\n",
       "    </tr>\n",
       "    <tr>\n",
       "      <th>South Carolina</th>\n",
       "      <td>1.320724</td>\n",
       "      <td>1.933405</td>\n",
       "      <td>-0.300538</td>\n",
       "      <td>-0.131467</td>\n",
       "    </tr>\n",
       "    <tr>\n",
       "      <th>South Dakota</th>\n",
       "      <td>-1.987775</td>\n",
       "      <td>0.823343</td>\n",
       "      <td>0.389293</td>\n",
       "      <td>-0.109572</td>\n",
       "    </tr>\n",
       "    <tr>\n",
       "      <th>Tennessee</th>\n",
       "      <td>0.999742</td>\n",
       "      <td>0.860251</td>\n",
       "      <td>0.188083</td>\n",
       "      <td>0.652864</td>\n",
       "    </tr>\n",
       "    <tr>\n",
       "      <th>Texas</th>\n",
       "      <td>1.355138</td>\n",
       "      <td>-0.412481</td>\n",
       "      <td>-0.492069</td>\n",
       "      <td>0.643195</td>\n",
       "    </tr>\n",
       "    <tr>\n",
       "      <th>Utah</th>\n",
       "      <td>-0.550565</td>\n",
       "      <td>-1.471505</td>\n",
       "      <td>0.293728</td>\n",
       "      <td>-0.082314</td>\n",
       "    </tr>\n",
       "    <tr>\n",
       "      <th>Vermont</th>\n",
       "      <td>-2.801412</td>\n",
       "      <td>1.402288</td>\n",
       "      <td>0.841263</td>\n",
       "      <td>-0.144890</td>\n",
       "    </tr>\n",
       "    <tr>\n",
       "      <th>Virginia</th>\n",
       "      <td>-0.096335</td>\n",
       "      <td>0.199735</td>\n",
       "      <td>0.011713</td>\n",
       "      <td>0.211371</td>\n",
       "    </tr>\n",
       "    <tr>\n",
       "      <th>Washington</th>\n",
       "      <td>-0.216903</td>\n",
       "      <td>-0.970124</td>\n",
       "      <td>0.624871</td>\n",
       "      <td>-0.220848</td>\n",
       "    </tr>\n",
       "    <tr>\n",
       "      <th>West Virginia</th>\n",
       "      <td>-2.108585</td>\n",
       "      <td>1.424847</td>\n",
       "      <td>0.104775</td>\n",
       "      <td>0.131909</td>\n",
       "    </tr>\n",
       "    <tr>\n",
       "      <th>Wisconsin</th>\n",
       "      <td>-2.079714</td>\n",
       "      <td>-0.611269</td>\n",
       "      <td>-0.138865</td>\n",
       "      <td>0.184104</td>\n",
       "    </tr>\n",
       "    <tr>\n",
       "      <th>Wyoming</th>\n",
       "      <td>-0.629427</td>\n",
       "      <td>0.321013</td>\n",
       "      <td>-0.240659</td>\n",
       "      <td>-0.166652</td>\n",
       "    </tr>\n",
       "  </tbody>\n",
       "</table>\n",
       "</div>"
      ],
      "text/plain": [
       "                     PC1       PC2       PC3       PC4\n",
       "Alabama         0.985566  1.133392 -0.444269  0.156267\n",
       "Alaska          1.950138  1.073213  2.040003 -0.438583\n",
       "Arizona         1.763164 -0.745957  0.054781 -0.834653\n",
       "Arkansas       -0.141420  1.119797  0.114574 -0.182811\n",
       "California      2.523980 -1.542934  0.598557 -0.341996\n",
       "Colorado        1.514563 -0.987555  1.095007  0.001465\n",
       "Connecticut    -1.358647 -1.088928 -0.643258 -0.118469\n",
       "Delaware        0.047709 -0.325359 -0.718633 -0.881978\n",
       "Florida         3.013042  0.039229 -0.576829 -0.096285\n",
       "Georgia         1.639283  1.278942 -0.342460  1.076797\n",
       "Hawaii         -0.912657 -1.570460  0.050782  0.902807\n",
       "Idaho          -1.639800  0.210973  0.259801 -0.499104\n",
       "Illinois        1.378911 -0.681841 -0.677496 -0.122021\n",
       "Indiana        -0.505461 -0.151563  0.228055  0.424666\n",
       "Iowa           -2.253646 -0.104054  0.164564  0.017556\n",
       "Kansas         -0.796881 -0.270165  0.025553  0.206496\n",
       "Kentucky       -0.750859  0.958440 -0.028369  0.670557\n",
       "Louisiana       1.564818  0.871055 -0.783480  0.454728\n",
       "Maine          -2.396829  0.376392 -0.065682 -0.330460\n",
       "Maryland        1.763369  0.427655 -0.157250 -0.559070\n",
       "Massachusetts  -0.486166 -1.474496 -0.609497 -0.179599\n",
       "Michigan        2.108441 -0.155397  0.384869  0.102372\n",
       "Minnesota      -1.692682 -0.632261  0.153070  0.067317\n",
       "Mississippi     0.996494  2.393796 -0.740808  0.215508\n",
       "Missouri        0.696787 -0.263355  0.377444  0.225824\n",
       "Montana        -1.185452  0.536874  0.246889  0.123742\n",
       "Nebraska       -1.265637 -0.193954  0.175574  0.015893\n",
       "Nevada          2.874395 -0.775600  1.163380  0.314515\n",
       "New Hampshire  -2.383915 -0.018082  0.036855 -0.033137\n",
       "New Jersey      0.181566 -1.449506 -0.764454  0.243383\n",
       "New Mexico      1.980024  0.142849  0.183692 -0.339534\n",
       "New York        1.682577 -0.823184 -0.643075 -0.013484\n",
       "North Carolina  1.123379  2.228003 -0.863572 -0.954382\n",
       "North Dakota   -2.992226  0.599119  0.301277 -0.253987\n",
       "Ohio           -0.225965 -0.742238 -0.031139  0.473916\n",
       "Oklahoma       -0.311783 -0.287854 -0.015310  0.010332\n",
       "Oregon          0.059122 -0.541411  0.939833 -0.237781\n",
       "Pennsylvania   -0.888416 -0.571100 -0.400629  0.359061\n",
       "Rhode Island   -0.863772 -1.491978 -1.369946 -0.613569\n",
       "South Carolina  1.320724  1.933405 -0.300538 -0.131467\n",
       "South Dakota   -1.987775  0.823343  0.389293 -0.109572\n",
       "Tennessee       0.999742  0.860251  0.188083  0.652864\n",
       "Texas           1.355138 -0.412481 -0.492069  0.643195\n",
       "Utah           -0.550565 -1.471505  0.293728 -0.082314\n",
       "Vermont        -2.801412  1.402288  0.841263 -0.144890\n",
       "Virginia       -0.096335  0.199735  0.011713  0.211371\n",
       "Washington     -0.216903 -0.970124  0.624871 -0.220848\n",
       "West Virginia  -2.108585  1.424847  0.104775  0.131909\n",
       "Wisconsin      -2.079714 -0.611269 -0.138865  0.184104\n",
       "Wyoming        -0.629427  0.321013 -0.240659 -0.166652"
      ]
     },
     "execution_count": 13,
     "metadata": {},
     "output_type": "execute_result"
    }
   ],
   "source": [
    "# Fit the PCA model and transform data to get the principal components\n",
    "\n",
    "# Instantiate PCA estimator \n",
    "pca = decomposition.PCA()\n",
    "df_plot = pd.DataFrame(pca.fit_transform(USArrests_standardized), columns=['PC1', 'PC2', 'PC3', 'PC4'], index=USArrests.index)\n",
    "df_plot"
   ]
  },
  {
   "cell_type": "markdown",
   "id": "62853c8f",
   "metadata": {},
   "source": [
    "#### Obtaining the PC Score"
   ]
  },
  {
   "cell_type": "code",
   "execution_count": null,
   "id": "e4fae47b",
   "metadata": {},
   "outputs": [],
   "source": []
  },
  {
   "cell_type": "code",
   "execution_count": 14,
   "id": "14917a88",
   "metadata": {},
   "outputs": [
    {
     "data": {
      "text/plain": [
       "array([ 0.98556588,  1.95013775,  1.76316354, -0.14142029,  2.52398013,\n",
       "        1.51456286, -1.35864746,  0.04770931,  3.01304227,  1.63928304,\n",
       "       -0.91265715, -1.63979985,  1.37891072, -0.50546136, -2.25364607,\n",
       "       -0.79688112, -0.75085907,  1.56481798, -2.39682949,  1.76336939,\n",
       "       -0.48616629,  2.10844115, -1.69268181,  0.99649446,  0.69678733,\n",
       "       -1.18545191, -1.26563654,  2.87439454, -2.38391541,  0.18156611,\n",
       "        1.98002375,  1.68257738,  1.12337861, -2.99222562, -0.22596542,\n",
       "       -0.31178286,  0.05912208, -0.88841582, -0.86377206,  1.3207238 ,\n",
       "       -1.98777484,  0.99974168,  1.35513821, -0.55056526, -2.80141174,\n",
       "       -0.09633491, -0.21690338, -2.10858541, -2.07971417, -0.62942666])"
      ]
     },
     "execution_count": 14,
     "metadata": {},
     "output_type": "execute_result"
    }
   ],
   "source": [
    "# Directly obtained by Covariance Matrix & Eigen value/vector method using 'simple_PCA'\n",
    "pc_scores[:,0]"
   ]
  },
  {
   "cell_type": "code",
   "execution_count": 15,
   "id": "8582eea5",
   "metadata": {},
   "outputs": [
    {
     "data": {
      "text/plain": [
       "array([ 0.98556588,  1.95013775,  1.76316354, -0.14142029,  2.52398013,\n",
       "        1.51456286, -1.35864746,  0.04770931,  3.01304227,  1.63928304,\n",
       "       -0.91265715, -1.63979985,  1.37891072, -0.50546136, -2.25364607,\n",
       "       -0.79688112, -0.75085907,  1.56481798, -2.39682949,  1.76336939,\n",
       "       -0.48616629,  2.10844115, -1.69268181,  0.99649446,  0.69678733,\n",
       "       -1.18545191, -1.26563654,  2.87439454, -2.38391541,  0.18156611,\n",
       "        1.98002375,  1.68257738,  1.12337861, -2.99222562, -0.22596542,\n",
       "       -0.31178286,  0.05912208, -0.88841582, -0.86377206,  1.3207238 ,\n",
       "       -1.98777484,  0.99974168,  1.35513821, -0.55056526, -2.80141174,\n",
       "       -0.09633491, -0.21690338, -2.10858541, -2.07971417, -0.62942666])"
      ]
     },
     "execution_count": 15,
     "metadata": {},
     "output_type": "execute_result"
    }
   ],
   "source": [
    "# We  get it all at once from the data matrix using fit_transform()\n",
    "PC_scores_sk = pca.fit_transform(USArrests_standardized)\n",
    "PC_scores_sk[:,0] # Retrieved from sckikit-learn's PCA"
   ]
  },
  {
   "cell_type": "markdown",
   "id": "72b9c7ee",
   "metadata": {},
   "source": [
    "The two results are the same. \n",
    "\n",
    "**Note**: The two results are the same, with sign reversed."
   ]
  },
  {
   "cell_type": "markdown",
   "id": "d0a8acf7",
   "metadata": {},
   "source": [
    "### Biplot \n",
    "\n",
    "The figure above plots the first two principal components of the USArrests data set. The figure represents both the principal component scores and the loading vectors in a single biplot display.\n",
    "\n",
    "A biplot is plot which aims to represent both the observations and variables of a matrix of multivariate data on the same plot. "
   ]
  },
  {
   "cell_type": "code",
   "execution_count": 16,
   "id": "8bc6cbd7",
   "metadata": {},
   "outputs": [
    {
     "data": {
      "text/plain": [
       "Text(0, 0.5, \"2'nd Principal Component loading vectors\")"
      ]
     },
     "execution_count": 16,
     "metadata": {},
     "output_type": "execute_result"
    },
    {
     "data": {
      "image/png": "[encoded data removed]",
      "text/plain": [
       "<Figure size 648x504 with 3 Axes>"
      ]
     },
     "metadata": {},
     "output_type": "display_data"
    }
   ],
   "source": [
    "fig , ax1 = plt.subplots(figsize=(9,7))\n",
    "\n",
    "ax1.set_xlim(-3.5,3.5)\n",
    "ax1.set_ylim(-3.5,3.5)\n",
    "\n",
    "# Plot Principal Components 1 and 2\n",
    "for i in df_plot.index:\n",
    "    ax1.annotate(i, (df_plot.PC1.loc[i], -df_plot.PC2.loc[i]), ha='center')\n",
    "\n",
    "# Plot reference lines\n",
    "ax1.hlines(0,-3.5,3.5, linestyles='dotted', colors='grey')\n",
    "ax1.vlines(0,-3.5,3.5, linestyles='dotted', colors='grey')\n",
    "\n",
    "ax1.set_xlabel('First Principal Component')\n",
    "ax1.set_ylabel('Second Principal Component')\n",
    "    \n",
    "# Plot Principal Component loading vectors, using a second y-axis.\n",
    "ax2 = ax1.twinx().twiny() \n",
    "ax2.set_ylim(-1,1)\n",
    "ax2.set_xlim(-1,1)\n",
    "ax2.tick_params(axis='y', colors='orange')\n",
    "\n",
    "\n",
    "# Plot labels for vectors. Variable 'a' is a small offset parameter to separate arrow tip and text.\n",
    "a = 1.05  \n",
    "for i in PCs[['PC1', 'PC2']].index:\n",
    "    ax2.annotate(i, (PCs.PC1.loc[i]*a, -PCs.PC2.loc[i]*a), color='red', size =12)\n",
    "    \n",
    "\n",
    "# Plot vectors\n",
    "ax2.arrow(0,0,PCs.PC1[0], -PCs.PC2[0], color='red')\n",
    "ax2.arrow(0,0,PCs.PC1[1], -PCs.PC2[1], color='red')\n",
    "ax2.arrow(0,0,PCs.PC1[2], -PCs.PC2[2], color='red')\n",
    "ax2.arrow(0,0,PCs.PC1[3], -PCs.PC2[3], color='red');\n",
    "\n",
    "ax2.set_xlabel('1st Principal Component loading vectors', color='orange')\n",
    "ax2.set_ylabel(\"2'nd Principal Component loading vectors\", color='orange')"
   ]
  },
  {
   "cell_type": "markdown",
   "id": "0ead2248",
   "metadata": {},
   "source": [
    "Figure Description: \n",
    "\n",
    "The state names represent the scores for the first two principal components. The loading for Rape on the first component is 0.54, and its loading on the second principal component 0.17 (the word Rape is centered at the point (0.54, 0.17)). This figure is known as a biplot, because it displays both the principal component scores and the principal component loadings."
   ]
  },
  {
   "cell_type": "markdown",
   "id": "2b678479",
   "metadata": {},
   "source": [
    "We see that the first loading vector places approximately equal weight on Assault, Murder, and Rape, with much less weight on UrbanPop. Hence this component roughly corresponds to a measure of overall\n",
    "rates of serious crimes.\n",
    "\n",
    "The second loading vector places most of its weight on UrbanPop and much less weight on the other three features. Hence, this component roughly corresponds to the level of urbanization of the state.\n",
    "\n",
    "Overall, we see that the crime-related variables (Murder, Assault, and Rape) are located close to each other, and that the UrbanPop variable is far from the other three. This indicates that the crime-related variables are correlated\n",
    "with each other i.e. states with high murder rates tend to have high assault and rape rates—and that the UrbanPop variable is less correlated with the other three."
   ]
  },
  {
   "cell_type": "markdown",
   "id": "6000a66f",
   "metadata": {},
   "source": [
    "### Proportion of Variance Explained"
   ]
  },
  {
   "cell_type": "markdown",
   "id": "dcb51824",
   "metadata": {},
   "source": [
    "Let's look at the variance (PVE) of the raw data as explained by Principal Component Loading."
   ]
  },
  {
   "cell_type": "code",
   "execution_count": 20,
   "id": "45354170",
   "metadata": {
    "scrolled": true
   },
   "outputs": [
    {
     "data": {
      "text/plain": [
       "array([0.62006039, 0.24744129, 0.0891408 , 0.04335752])"
      ]
     },
     "execution_count": 20,
     "metadata": {},
     "output_type": "execute_result"
    }
   ],
   "source": [
    "USArrests_PC.explained_variance_ratio_"
   ]
  },
  {
   "cell_type": "markdown",
   "id": "4ae4cdff",
   "metadata": {},
   "source": [
    "From the above reuslts, we see that the first principal component explains 62.0\\% ofthe variance in the data, and the next principal component explains 24.7\\% of the variance. \n",
    "Together, the first two principal components explain almost 87\\% of the variance in the data, and the last two principal components explain only 13% of the variance.\n",
    "\n",
    "This means that the figure above provides a pretty accurate summary of the data using just two dimensions."
   ]
  },
  {
   "cell_type": "code",
   "execution_count": 21,
   "id": "36f489e2",
   "metadata": {},
   "outputs": [
    {
     "name": "stdout",
     "output_type": "stream",
     "text": [
      "Standard Deviations of Principal Components: \n",
      " [1.5908673  1.00496987 0.6031915  0.4206774 ]\n"
     ]
    },
    {
     "data": {
      "image/png": "[encoded data removed]",
      "text/plain": [
       "<Figure size 432x288 with 1 Axes>"
      ]
     },
     "metadata": {},
     "output_type": "display_data"
    }
   ],
   "source": [
    "print(\"Standard Deviations of Principal Components: \\n\", np.sqrt(USArrests_PC.explained_variance_))\n",
    "\n",
    "# Percentage of Variance Explained (PVE) by each PC:\n",
    "plt.figure(figsize=(6, 4))\n",
    "plt.ylim(0, 1.05)\n",
    "\n",
    "plt.plot(USArrests_PC.explained_variance_ratio_, '-o', label='Individual component')\n",
    "plt.plot(np.cumsum(USArrests_PC.explained_variance_ratio_), 'bo-', label='cumulative PVE')\n",
    "\n",
    "plt.ylabel('percentage of variance explained')\n",
    "plt.xlabel('Principal components')\n",
    "plt.legend(loc='best')\n",
    "plt.tight_layout()"
   ]
  },
  {
   "cell_type": "markdown",
   "id": "9ef77428",
   "metadata": {},
   "source": [
    "The PVE of each principal component, as well as the cumulative PVE, is shown."
   ]
  },
  {
   "cell_type": "code",
   "execution_count": null,
   "id": "a377a96a",
   "metadata": {},
   "outputs": [],
   "source": []
  }
 ],
 "metadata": {
  "interpreter": {
   "hash": "4edf81528f27573aba80c4a2f996bd4f26027e917223287f3cada8b77132d7c8"
  },
  "kernelspec": {
   "display_name": "Python 3.9.7 64-bit",
   "name": "python3"
  },
  "language_info": {
   "codemirror_mode": {
    "name": "ipython",
    "version": 3
   },
   "file_extension": ".py",
   "mimetype": "text/x-python",
   "name": "python",
   "nbconvert_exporter": "python",
   "pygments_lexer": "ipython3",
   "version": "3.9.7"
  }
 },
 "nbformat": 4,
 "nbformat_minor": 5
}
