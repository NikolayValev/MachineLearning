{
 "cells": [
  {
   "cell_type": "code",
   "execution_count": null,
   "metadata": {},
   "outputs": [],
   "source": [
    "import pandas as pd\n",
    "import numpy as np\n",
    "import matplotlib.pyplot as plt\n",
    "from scipy.cluster.hierarchy import linkage\n",
    "from scipy.cluster.hierarchy import dendrogram\n",
    "\n",
    "nci_data = pd.read_csv(\"NCI60_data.csv\", index_col=0)\n",
    "nci_labs = pd.read_csv('NCI60_labs.csv', index_col=0)\n",
    "\n",
    "nci_data.index = nci_labs.x\n",
    "d = as.dist(matrix(c(0, 0.3, 0.4, 0.7,\n",
    "                     0.3, 0, 0.5, 0.8,\n",
    "                     0.4, 0.5, 0.0, 0.45,\n",
    "                     0.7, 0.8, 0.45, 0.0), nrow=4))\n",
    "fig, ax = plt.subplots(3, 1, figsize=(15, 22))\n",
    "fig.subplots_adjust(hspace=0.5)\n",
    "\n",
    "linkages = ['complete', 'single', 'average']\n",
    "for link, axis in zip(linkages, fig.axes):\n",
    "    hc = linkage(y=nci_data, method=link, metric='euclidean')\n",
    "    axis.set_title(\"Linkage=%s\" % link, size=15)\n",
    "    axis.set_xlabel('Sample Type', size=15)\n",
    "    axis.set_ylabel('Distance', size=15)\n",
    "    dendrogram(hc, ax=axis, labels=nci_data.index,\n",
    "               leaf_rotation=90, leaf_font_size=10)\n"
   ]
  }
 ],
 "metadata": {
  "language_info": {
   "name": "python"
  },
  "orig_nbformat": 4
 },
 "nbformat": 4,
 "nbformat_minor": 2
}
