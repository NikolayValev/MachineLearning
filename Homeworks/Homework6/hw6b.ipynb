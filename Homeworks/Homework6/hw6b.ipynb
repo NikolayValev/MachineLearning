{
 "cells": [
  {
   "cell_type": "markdown",
   "metadata": {},
   "source": [
    "## (1 + x1)^2 + (2 − x2)^2 = 4\n",
    "makes a circle(-1, 2) with r=2\n",
    "x1 = -1 + 2cos(theta)\n",
    "x2 = 2 + 2sin(theta)\n",
    "## (1 + x1)^2 + (2 − x2)^2 > 4\n",
    "x1 > -1 + 2cos(theta)\n",
    "x2 > 2 + 2sin(theta)\n",
    "x1=(-∞,-3)U(1,∞)\n",
    "x2=(-∞,-2)U(2,∞)\n",
    "## (1 + x1)^2 + (2 − x2)^2 <= 4\n",
    "x1 <= -1 + 2cos(theta)\n",
    "x2 <= 2 + 2sin(theta)\n",
    "x1=(-1,1)\n",
    "x2=(-2,2)"
   ]
  },
  {
   "cell_type": "code",
   "execution_count": 24,
   "metadata": {},
   "outputs": [
    {
     "data": {
      "image/png": "[encoded data removed]",
      "text/plain": [
       "<Figure size 432x288 with 1 Axes>"
      ]
     },
     "metadata": {
      "needs_background": "light"
     },
     "output_type": "display_data"
    }
   ],
   "source": [
    "import numpy as np\n",
    "import matplotlib.pyplot as plt\n",
    "\n",
    "theta = np.linspace(0, 2*np.pi, 100)\n",
    "\n",
    "radius = 2\n",
    "\n",
    "a = -1 + radius*np.cos(theta)\n",
    "b = 2 + radius*np.sin(theta)\n",
    "\n",
    "figure, axes = plt.subplots(1)\n",
    "plt.text(-1.5, 2, \"<= 4\", fontdict={'color':'black', 'size':12})\n",
    "plt.text(2, 4.5, \"> 4\", fontdict={'color':'black', 'size':12})\n",
    "plt.scatter([0, -1, 2, 3], [0, 1, 2, 8], c=['b', 'r', 'b', 'b'])\n",
    "\n",
    "axes.plot(a, b)\n",
    "axes.set_aspect(1)\n",
    "\n",
    "plt.title('(1 + x1)^2 + (2 − x2)^2 = 4')\n",
    "plt.show()"
   ]
  }
 ],
 "metadata": {
  "interpreter": {
   "hash": "4edf81528f27573aba80c4a2f996bd4f26027e917223287f3cada8b77132d7c8"
  },
  "kernelspec": {
   "display_name": "Python 3.9.7 64-bit",
   "language": "python",
   "name": "python3"
  },
  "language_info": {
   "codemirror_mode": {
    "name": "ipython",
    "version": 3
   },
   "file_extension": ".py",
   "mimetype": "text/x-python",
   "name": "python",
   "nbconvert_exporter": "python",
   "pygments_lexer": "ipython3",
   "version": "3.9.7"
  },
  "orig_nbformat": 4
 },
 "nbformat": 4,
 "nbformat_minor": 2
}
