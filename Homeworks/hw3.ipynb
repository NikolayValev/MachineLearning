{
 "cells": [
  {
   "cell_type": "code",
   "execution_count": 1,
   "metadata": {},
   "outputs": [],
   "source": [
    "import pandas as pd\n",
    "import numpy as np\n",
    "import itertools\n",
    "import time\n",
    "import seaborn as sn\n",
    "import statsmodels.formula.api as smf\n",
    "import matplotlib.pyplot as plt\n",
    "import math\n",
    "\n",
    "%matplotlib inline\n"
   ]
  },
  {
   "cell_type": "code",
   "execution_count": 2,
   "metadata": {},
   "outputs": [
    {
     "name": "stdout",
     "output_type": "stream",
     "text": [
      "<class 'pandas.core.frame.DataFrame'>\n",
      "RangeIndex: 337 entries, 0 to 336\n",
      "Data columns (total 18 columns):\n",
      " #   Column            Non-Null Count  Dtype  \n",
      "---  ------            --------------  -----  \n",
      " 0   salary            337 non-null    int64  \n",
      " 1   batting.avg       337 non-null    float64\n",
      " 2   OBP               337 non-null    float64\n",
      " 3   runs              337 non-null    int64  \n",
      " 4   hits              337 non-null    int64  \n",
      " 5   doubles           337 non-null    int64  \n",
      " 6   triples           337 non-null    int64  \n",
      " 7   homeruns          337 non-null    int64  \n",
      " 8   RBI               337 non-null    int64  \n",
      " 9   walks             337 non-null    int64  \n",
      " 10  strike.outs       337 non-null    int64  \n",
      " 11  stolen.bases      337 non-null    int64  \n",
      " 12  errors            337 non-null    int64  \n",
      " 13  free.agency.elig  337 non-null    int64  \n",
      " 14  free.agent.91     337 non-null    int64  \n",
      " 15  arb.elig          337 non-null    int64  \n",
      " 16  arb.91            337 non-null    int64  \n",
      " 17  name              337 non-null    object \n",
      "dtypes: float64(2), int64(15), object(1)\n",
      "memory usage: 47.5+ KB\n"
     ]
    }
   ],
   "source": [
    "baseball = pd.read_table('http://jse.amstat.org/datasets/baseball.dat.txt',\n",
    "                         header=None, sep=\"\\s+\", names=[\"salary\", \"batting.avg\", \"OBP\", \"runs\",\n",
    "                                                        \"hits\", \"doubles\", \"triples\", \"homeruns\", \"RBI\", \"walks\", \"strike.outs\",\n",
    "                                                        \"stolen.bases\", \"errors\", \"free.agency.elig\", \"free.agent.91\",\n",
    "                                                        \"arb.elig\", \"arb.91\", \"name\"])\n",
    "baseball.info()\n"
   ]
  },
  {
   "cell_type": "code",
   "execution_count": 3,
   "metadata": {},
   "outputs": [
    {
     "data": {
      "text/html": [
       "<div>\n",
       "<style scoped>\n",
       "    .dataframe tbody tr th:only-of-type {\n",
       "        vertical-align: middle;\n",
       "    }\n",
       "\n",
       "    .dataframe tbody tr th {\n",
       "        vertical-align: top;\n",
       "    }\n",
       "\n",
       "    .dataframe thead th {\n",
       "        text-align: right;\n",
       "    }\n",
       "</style>\n",
       "<table border=\"1\" class=\"dataframe\">\n",
       "  <thead>\n",
       "    <tr style=\"text-align: right;\">\n",
       "      <th></th>\n",
       "      <th>salary</th>\n",
       "      <th>batting.avg</th>\n",
       "      <th>OBP</th>\n",
       "      <th>runs</th>\n",
       "      <th>hits</th>\n",
       "      <th>doubles</th>\n",
       "      <th>triples</th>\n",
       "      <th>homeruns</th>\n",
       "      <th>RBI</th>\n",
       "      <th>walks</th>\n",
       "      <th>strike.outs</th>\n",
       "      <th>stolen.bases</th>\n",
       "      <th>errors</th>\n",
       "      <th>free.agency.elig</th>\n",
       "      <th>free.agent.91</th>\n",
       "      <th>arb.elig</th>\n",
       "      <th>arb.91</th>\n",
       "      <th>name</th>\n",
       "    </tr>\n",
       "  </thead>\n",
       "  <tbody>\n",
       "    <tr>\n",
       "      <th>0</th>\n",
       "      <td>3300</td>\n",
       "      <td>0.272</td>\n",
       "      <td>0.302</td>\n",
       "      <td>69</td>\n",
       "      <td>153</td>\n",
       "      <td>21</td>\n",
       "      <td>4</td>\n",
       "      <td>31</td>\n",
       "      <td>104</td>\n",
       "      <td>22</td>\n",
       "      <td>80</td>\n",
       "      <td>4</td>\n",
       "      <td>3</td>\n",
       "      <td>1</td>\n",
       "      <td>0</td>\n",
       "      <td>0</td>\n",
       "      <td>0</td>\n",
       "      <td>Andre Dawson</td>\n",
       "    </tr>\n",
       "    <tr>\n",
       "      <th>1</th>\n",
       "      <td>2600</td>\n",
       "      <td>0.269</td>\n",
       "      <td>0.335</td>\n",
       "      <td>58</td>\n",
       "      <td>111</td>\n",
       "      <td>17</td>\n",
       "      <td>2</td>\n",
       "      <td>18</td>\n",
       "      <td>66</td>\n",
       "      <td>39</td>\n",
       "      <td>69</td>\n",
       "      <td>0</td>\n",
       "      <td>3</td>\n",
       "      <td>1</td>\n",
       "      <td>1</td>\n",
       "      <td>0</td>\n",
       "      <td>0</td>\n",
       "      <td>Steve Buchele</td>\n",
       "    </tr>\n",
       "    <tr>\n",
       "      <th>2</th>\n",
       "      <td>2500</td>\n",
       "      <td>0.249</td>\n",
       "      <td>0.337</td>\n",
       "      <td>54</td>\n",
       "      <td>115</td>\n",
       "      <td>15</td>\n",
       "      <td>1</td>\n",
       "      <td>17</td>\n",
       "      <td>73</td>\n",
       "      <td>63</td>\n",
       "      <td>116</td>\n",
       "      <td>6</td>\n",
       "      <td>5</td>\n",
       "      <td>1</td>\n",
       "      <td>0</td>\n",
       "      <td>0</td>\n",
       "      <td>0</td>\n",
       "      <td>Kal Daniels</td>\n",
       "    </tr>\n",
       "    <tr>\n",
       "      <th>3</th>\n",
       "      <td>2475</td>\n",
       "      <td>0.260</td>\n",
       "      <td>0.292</td>\n",
       "      <td>59</td>\n",
       "      <td>128</td>\n",
       "      <td>22</td>\n",
       "      <td>7</td>\n",
       "      <td>12</td>\n",
       "      <td>50</td>\n",
       "      <td>23</td>\n",
       "      <td>64</td>\n",
       "      <td>21</td>\n",
       "      <td>21</td>\n",
       "      <td>0</td>\n",
       "      <td>0</td>\n",
       "      <td>1</td>\n",
       "      <td>0</td>\n",
       "      <td>Shawon Dunston</td>\n",
       "    </tr>\n",
       "    <tr>\n",
       "      <th>4</th>\n",
       "      <td>2313</td>\n",
       "      <td>0.273</td>\n",
       "      <td>0.346</td>\n",
       "      <td>87</td>\n",
       "      <td>169</td>\n",
       "      <td>28</td>\n",
       "      <td>5</td>\n",
       "      <td>8</td>\n",
       "      <td>58</td>\n",
       "      <td>70</td>\n",
       "      <td>53</td>\n",
       "      <td>3</td>\n",
       "      <td>8</td>\n",
       "      <td>0</td>\n",
       "      <td>0</td>\n",
       "      <td>1</td>\n",
       "      <td>0</td>\n",
       "      <td>Mark Grace</td>\n",
       "    </tr>\n",
       "  </tbody>\n",
       "</table>\n",
       "</div>"
      ],
      "text/plain": [
       "   salary  batting.avg    OBP  runs  hits  doubles  triples  homeruns  RBI  \\\n",
       "0    3300        0.272  0.302    69   153       21        4        31  104   \n",
       "1    2600        0.269  0.335    58   111       17        2        18   66   \n",
       "2    2500        0.249  0.337    54   115       15        1        17   73   \n",
       "3    2475        0.260  0.292    59   128       22        7        12   50   \n",
       "4    2313        0.273  0.346    87   169       28        5         8   58   \n",
       "\n",
       "   walks  strike.outs  stolen.bases  errors  free.agency.elig  free.agent.91  \\\n",
       "0     22           80             4       3                 1              0   \n",
       "1     39           69             0       3                 1              1   \n",
       "2     63          116             6       5                 1              0   \n",
       "3     23           64            21      21                 0              0   \n",
       "4     70           53             3       8                 0              0   \n",
       "\n",
       "   arb.elig  arb.91               name  \n",
       "0         0       0  Andre Dawson       \n",
       "1         0       0  Steve Buchele      \n",
       "2         0       0  Kal Daniels        \n",
       "3         1       0  Shawon Dunston     \n",
       "4         1       0  Mark Grace         "
      ]
     },
     "execution_count": 3,
     "metadata": {},
     "output_type": "execute_result"
    }
   ],
   "source": [
    "baseball.head()  # Check summary statistics\n"
   ]
  },
  {
   "cell_type": "code",
   "execution_count": 4,
   "metadata": {},
   "outputs": [
    {
     "name": "stderr",
     "output_type": "stream",
     "text": [
      "C:\\Users\\nikol\\AppData\\Local\\Temp/ipykernel_27052/4092296004.py:1: FutureWarning: The default value of regex will change from True to False in a future version. In addition, single character regular expressions will *not* be treated as literal strings when regex=True.\n",
      "  baseball.columns = baseball.columns.str.replace('.', '')\n"
     ]
    }
   ],
   "source": [
    "baseball.columns = baseball.columns.str.replace('.', '')\n"
   ]
  },
  {
   "cell_type": "code",
   "execution_count": 5,
   "metadata": {},
   "outputs": [
    {
     "data": {
      "text/html": [
       "<div>\n",
       "<style scoped>\n",
       "    .dataframe tbody tr th:only-of-type {\n",
       "        vertical-align: middle;\n",
       "    }\n",
       "\n",
       "    .dataframe tbody tr th {\n",
       "        vertical-align: top;\n",
       "    }\n",
       "\n",
       "    .dataframe thead th {\n",
       "        text-align: right;\n",
       "    }\n",
       "</style>\n",
       "<table border=\"1\" class=\"dataframe\">\n",
       "  <thead>\n",
       "    <tr style=\"text-align: right;\">\n",
       "      <th></th>\n",
       "      <th>salary</th>\n",
       "      <th>battingavg</th>\n",
       "      <th>OBP</th>\n",
       "      <th>runs</th>\n",
       "      <th>hits</th>\n",
       "      <th>doubles</th>\n",
       "      <th>triples</th>\n",
       "      <th>homeruns</th>\n",
       "      <th>RBI</th>\n",
       "      <th>walks</th>\n",
       "      <th>strikeouts</th>\n",
       "      <th>stolenbases</th>\n",
       "      <th>errors</th>\n",
       "      <th>freeagencyelig</th>\n",
       "      <th>freeagent91</th>\n",
       "      <th>arbelig</th>\n",
       "      <th>arb91</th>\n",
       "    </tr>\n",
       "  </thead>\n",
       "  <tbody>\n",
       "    <tr>\n",
       "      <th>count</th>\n",
       "      <td>337.000000</td>\n",
       "      <td>337.000000</td>\n",
       "      <td>337.000000</td>\n",
       "      <td>337.000000</td>\n",
       "      <td>337.000000</td>\n",
       "      <td>337.000000</td>\n",
       "      <td>337.000000</td>\n",
       "      <td>337.000000</td>\n",
       "      <td>337.000000</td>\n",
       "      <td>337.000000</td>\n",
       "      <td>337.000000</td>\n",
       "      <td>337.000000</td>\n",
       "      <td>337.000000</td>\n",
       "      <td>337.000000</td>\n",
       "      <td>337.000000</td>\n",
       "      <td>337.000000</td>\n",
       "      <td>337.000000</td>\n",
       "    </tr>\n",
       "    <tr>\n",
       "      <th>mean</th>\n",
       "      <td>1248.528190</td>\n",
       "      <td>0.257825</td>\n",
       "      <td>0.323973</td>\n",
       "      <td>46.697329</td>\n",
       "      <td>92.833828</td>\n",
       "      <td>16.673591</td>\n",
       "      <td>2.338279</td>\n",
       "      <td>9.097923</td>\n",
       "      <td>44.020772</td>\n",
       "      <td>35.017804</td>\n",
       "      <td>56.706231</td>\n",
       "      <td>8.246291</td>\n",
       "      <td>6.771513</td>\n",
       "      <td>0.397626</td>\n",
       "      <td>0.115727</td>\n",
       "      <td>0.192878</td>\n",
       "      <td>0.029674</td>\n",
       "    </tr>\n",
       "    <tr>\n",
       "      <th>std</th>\n",
       "      <td>1240.013309</td>\n",
       "      <td>0.039546</td>\n",
       "      <td>0.047132</td>\n",
       "      <td>29.020166</td>\n",
       "      <td>51.896322</td>\n",
       "      <td>10.452001</td>\n",
       "      <td>2.543336</td>\n",
       "      <td>9.289934</td>\n",
       "      <td>29.559406</td>\n",
       "      <td>24.842474</td>\n",
       "      <td>33.828784</td>\n",
       "      <td>11.664782</td>\n",
       "      <td>5.927490</td>\n",
       "      <td>0.490135</td>\n",
       "      <td>0.320373</td>\n",
       "      <td>0.395145</td>\n",
       "      <td>0.169938</td>\n",
       "    </tr>\n",
       "    <tr>\n",
       "      <th>min</th>\n",
       "      <td>109.000000</td>\n",
       "      <td>0.063000</td>\n",
       "      <td>0.063000</td>\n",
       "      <td>0.000000</td>\n",
       "      <td>1.000000</td>\n",
       "      <td>0.000000</td>\n",
       "      <td>0.000000</td>\n",
       "      <td>0.000000</td>\n",
       "      <td>0.000000</td>\n",
       "      <td>0.000000</td>\n",
       "      <td>1.000000</td>\n",
       "      <td>0.000000</td>\n",
       "      <td>0.000000</td>\n",
       "      <td>0.000000</td>\n",
       "      <td>0.000000</td>\n",
       "      <td>0.000000</td>\n",
       "      <td>0.000000</td>\n",
       "    </tr>\n",
       "    <tr>\n",
       "      <th>25%</th>\n",
       "      <td>230.000000</td>\n",
       "      <td>0.238000</td>\n",
       "      <td>0.297000</td>\n",
       "      <td>22.000000</td>\n",
       "      <td>51.000000</td>\n",
       "      <td>9.000000</td>\n",
       "      <td>0.000000</td>\n",
       "      <td>2.000000</td>\n",
       "      <td>21.000000</td>\n",
       "      <td>15.000000</td>\n",
       "      <td>31.000000</td>\n",
       "      <td>1.000000</td>\n",
       "      <td>3.000000</td>\n",
       "      <td>0.000000</td>\n",
       "      <td>0.000000</td>\n",
       "      <td>0.000000</td>\n",
       "      <td>0.000000</td>\n",
       "    </tr>\n",
       "    <tr>\n",
       "      <th>50%</th>\n",
       "      <td>740.000000</td>\n",
       "      <td>0.260000</td>\n",
       "      <td>0.323000</td>\n",
       "      <td>41.000000</td>\n",
       "      <td>91.000000</td>\n",
       "      <td>15.000000</td>\n",
       "      <td>2.000000</td>\n",
       "      <td>6.000000</td>\n",
       "      <td>39.000000</td>\n",
       "      <td>30.000000</td>\n",
       "      <td>49.000000</td>\n",
       "      <td>4.000000</td>\n",
       "      <td>5.000000</td>\n",
       "      <td>0.000000</td>\n",
       "      <td>0.000000</td>\n",
       "      <td>0.000000</td>\n",
       "      <td>0.000000</td>\n",
       "    </tr>\n",
       "    <tr>\n",
       "      <th>75%</th>\n",
       "      <td>2150.000000</td>\n",
       "      <td>0.281000</td>\n",
       "      <td>0.354000</td>\n",
       "      <td>69.000000</td>\n",
       "      <td>136.000000</td>\n",
       "      <td>23.000000</td>\n",
       "      <td>3.000000</td>\n",
       "      <td>15.000000</td>\n",
       "      <td>66.000000</td>\n",
       "      <td>49.000000</td>\n",
       "      <td>78.000000</td>\n",
       "      <td>11.000000</td>\n",
       "      <td>9.000000</td>\n",
       "      <td>1.000000</td>\n",
       "      <td>0.000000</td>\n",
       "      <td>0.000000</td>\n",
       "      <td>0.000000</td>\n",
       "    </tr>\n",
       "    <tr>\n",
       "      <th>max</th>\n",
       "      <td>6100.000000</td>\n",
       "      <td>0.457000</td>\n",
       "      <td>0.486000</td>\n",
       "      <td>133.000000</td>\n",
       "      <td>216.000000</td>\n",
       "      <td>49.000000</td>\n",
       "      <td>15.000000</td>\n",
       "      <td>44.000000</td>\n",
       "      <td>133.000000</td>\n",
       "      <td>138.000000</td>\n",
       "      <td>175.000000</td>\n",
       "      <td>76.000000</td>\n",
       "      <td>31.000000</td>\n",
       "      <td>1.000000</td>\n",
       "      <td>1.000000</td>\n",
       "      <td>1.000000</td>\n",
       "      <td>1.000000</td>\n",
       "    </tr>\n",
       "  </tbody>\n",
       "</table>\n",
       "</div>"
      ],
      "text/plain": [
       "            salary  battingavg         OBP        runs        hits  \\\n",
       "count   337.000000  337.000000  337.000000  337.000000  337.000000   \n",
       "mean   1248.528190    0.257825    0.323973   46.697329   92.833828   \n",
       "std    1240.013309    0.039546    0.047132   29.020166   51.896322   \n",
       "min     109.000000    0.063000    0.063000    0.000000    1.000000   \n",
       "25%     230.000000    0.238000    0.297000   22.000000   51.000000   \n",
       "50%     740.000000    0.260000    0.323000   41.000000   91.000000   \n",
       "75%    2150.000000    0.281000    0.354000   69.000000  136.000000   \n",
       "max    6100.000000    0.457000    0.486000  133.000000  216.000000   \n",
       "\n",
       "          doubles     triples    homeruns         RBI       walks  strikeouts  \\\n",
       "count  337.000000  337.000000  337.000000  337.000000  337.000000  337.000000   \n",
       "mean    16.673591    2.338279    9.097923   44.020772   35.017804   56.706231   \n",
       "std     10.452001    2.543336    9.289934   29.559406   24.842474   33.828784   \n",
       "min      0.000000    0.000000    0.000000    0.000000    0.000000    1.000000   \n",
       "25%      9.000000    0.000000    2.000000   21.000000   15.000000   31.000000   \n",
       "50%     15.000000    2.000000    6.000000   39.000000   30.000000   49.000000   \n",
       "75%     23.000000    3.000000   15.000000   66.000000   49.000000   78.000000   \n",
       "max     49.000000   15.000000   44.000000  133.000000  138.000000  175.000000   \n",
       "\n",
       "       stolenbases      errors  freeagencyelig  freeagent91     arbelig  \\\n",
       "count   337.000000  337.000000      337.000000   337.000000  337.000000   \n",
       "mean      8.246291    6.771513        0.397626     0.115727    0.192878   \n",
       "std      11.664782    5.927490        0.490135     0.320373    0.395145   \n",
       "min       0.000000    0.000000        0.000000     0.000000    0.000000   \n",
       "25%       1.000000    3.000000        0.000000     0.000000    0.000000   \n",
       "50%       4.000000    5.000000        0.000000     0.000000    0.000000   \n",
       "75%      11.000000    9.000000        1.000000     0.000000    0.000000   \n",
       "max      76.000000   31.000000        1.000000     1.000000    1.000000   \n",
       "\n",
       "            arb91  \n",
       "count  337.000000  \n",
       "mean     0.029674  \n",
       "std      0.169938  \n",
       "min      0.000000  \n",
       "25%      0.000000  \n",
       "50%      0.000000  \n",
       "75%      0.000000  \n",
       "max      1.000000  "
      ]
     },
     "execution_count": 5,
     "metadata": {},
     "output_type": "execute_result"
    }
   ],
   "source": [
    "baseball.describe()  # Check summary statistics\n"
   ]
  },
  {
   "cell_type": "code",
   "execution_count": 6,
   "metadata": {},
   "outputs": [
    {
     "data": {
      "text/plain": [
       "(337, 18)"
      ]
     },
     "execution_count": 6,
     "metadata": {},
     "output_type": "execute_result"
    }
   ],
   "source": [
    "baseball.shape  # Check data dimension\n"
   ]
  },
  {
   "cell_type": "markdown",
   "metadata": {},
   "source": [
    "1. Exploratory Data Analysis: First prepare your data"
   ]
  },
  {
   "cell_type": "markdown",
   "metadata": {},
   "source": [
    "(a)Obtain the histograms of both salary and the logarithm (natural base) of\n",
    "salary and comment. Proceed with the log-transformed salary from this step\n",
    "on."
   ]
  },
  {
   "cell_type": "code",
   "execution_count": 8,
   "metadata": {},
   "outputs": [
    {
     "data": {
      "text/plain": [
       "(array([61., 27., 32., 23., 34., 36., 23., 54., 36., 11.]),\n",
       " array([ 6.76818432,  7.34882525,  7.92946617,  8.51010709,  9.09074801,\n",
       "         9.67138893, 10.25202985, 10.83267077, 11.41331169, 11.99395261,\n",
       "        12.57459353]),\n",
       " <BarContainer object of 10 artists>)"
      ]
     },
     "execution_count": 8,
     "metadata": {},
     "output_type": "execute_result"
    },
    {
     "data": {
      "image/png": "[encoded data removed]",
      "text/plain": [
       "<Figure size 432x288 with 2 Axes>"
      ]
     },
     "metadata": {
      "needs_background": "light"
     },
     "output_type": "display_data"
    }
   ],
   "source": [
    "salary = baseball.salary\n",
    "log_salary = np.log2(baseball.salary)\n",
    "\n",
    "fig, axs = plt.subplots(1, 2, sharey=True, tight_layout=True)\n",
    "\n",
    "# We can set the number of bins with the `bins` kwarg\n",
    "axs[0].hist(salary)\n",
    "axs[1].hist(log_salary)\n"
   ]
  },
  {
   "cell_type": "markdown",
   "metadata": {},
   "source": [
    "(b) Inspect the data and answer these questions: Are there any missing data?\n",
    "Among all the predictors, how many of them are continuous, integer counts,\n",
    "and categorical, respectively?"
   ]
  },
  {
   "cell_type": "code",
   "execution_count": 9,
   "metadata": {},
   "outputs": [
    {
     "data": {
      "image/png": "[encoded data removed]",
      "text/plain": [
       "<Figure size 432x288 with 2 Axes>"
      ]
     },
     "metadata": {
      "needs_background": "light"
     },
     "output_type": "display_data"
    }
   ],
   "source": [
    "# CORRELATION MATRIX\n",
    "corrMatrix = baseball.corr()\n",
    "sn.heatmap(corrMatrix, annot=True)\n",
    "plt.show()\n"
   ]
  },
  {
   "cell_type": "markdown",
   "metadata": {},
   "source": [
    "2. Linear Regression:"
   ]
  },
  {
   "cell_type": "markdown",
   "metadata": {},
   "source": [
    "Fit a multiple linear regression model using the entire baseball data. Call\n",
    "it fit_full. Provide the output from the model and interpret the results –\n",
    "Which of the variables are significant etc."
   ]
  },
  {
   "cell_type": "code",
   "execution_count": 10,
   "metadata": {},
   "outputs": [],
   "source": [
    "#\"batting.avg\" breaks the function"
   ]
  },
  {
   "cell_type": "code",
   "execution_count": 20,
   "metadata": {},
   "outputs": [
    {
     "data": {
      "text/html": [
       "<div>\n",
       "<style scoped>\n",
       "    .dataframe tbody tr th:only-of-type {\n",
       "        vertical-align: middle;\n",
       "    }\n",
       "\n",
       "    .dataframe tbody tr th {\n",
       "        vertical-align: top;\n",
       "    }\n",
       "\n",
       "    .dataframe thead th {\n",
       "        text-align: right;\n",
       "    }\n",
       "</style>\n",
       "<table border=\"1\" class=\"dataframe\">\n",
       "  <thead>\n",
       "    <tr style=\"text-align: right;\">\n",
       "      <th></th>\n",
       "      <th>battingavg</th>\n",
       "      <th>OBP</th>\n",
       "      <th>runs</th>\n",
       "      <th>hits</th>\n",
       "      <th>doubles</th>\n",
       "      <th>triples</th>\n",
       "      <th>homeruns</th>\n",
       "      <th>RBI</th>\n",
       "      <th>walks</th>\n",
       "      <th>strikeouts</th>\n",
       "      <th>stolenbases</th>\n",
       "      <th>errors</th>\n",
       "      <th>freeagencyelig</th>\n",
       "      <th>freeagent91</th>\n",
       "      <th>arbelig</th>\n",
       "      <th>arb91</th>\n",
       "    </tr>\n",
       "  </thead>\n",
       "  <tbody>\n",
       "    <tr>\n",
       "      <th>0</th>\n",
       "      <td>0.272</td>\n",
       "      <td>0.302</td>\n",
       "      <td>69</td>\n",
       "      <td>153</td>\n",
       "      <td>21</td>\n",
       "      <td>4</td>\n",
       "      <td>31</td>\n",
       "      <td>104</td>\n",
       "      <td>22</td>\n",
       "      <td>80</td>\n",
       "      <td>4</td>\n",
       "      <td>3</td>\n",
       "      <td>1</td>\n",
       "      <td>0</td>\n",
       "      <td>0</td>\n",
       "      <td>0</td>\n",
       "    </tr>\n",
       "    <tr>\n",
       "      <th>1</th>\n",
       "      <td>0.269</td>\n",
       "      <td>0.335</td>\n",
       "      <td>58</td>\n",
       "      <td>111</td>\n",
       "      <td>17</td>\n",
       "      <td>2</td>\n",
       "      <td>18</td>\n",
       "      <td>66</td>\n",
       "      <td>39</td>\n",
       "      <td>69</td>\n",
       "      <td>0</td>\n",
       "      <td>3</td>\n",
       "      <td>1</td>\n",
       "      <td>1</td>\n",
       "      <td>0</td>\n",
       "      <td>0</td>\n",
       "    </tr>\n",
       "    <tr>\n",
       "      <th>2</th>\n",
       "      <td>0.249</td>\n",
       "      <td>0.337</td>\n",
       "      <td>54</td>\n",
       "      <td>115</td>\n",
       "      <td>15</td>\n",
       "      <td>1</td>\n",
       "      <td>17</td>\n",
       "      <td>73</td>\n",
       "      <td>63</td>\n",
       "      <td>116</td>\n",
       "      <td>6</td>\n",
       "      <td>5</td>\n",
       "      <td>1</td>\n",
       "      <td>0</td>\n",
       "      <td>0</td>\n",
       "      <td>0</td>\n",
       "    </tr>\n",
       "    <tr>\n",
       "      <th>3</th>\n",
       "      <td>0.260</td>\n",
       "      <td>0.292</td>\n",
       "      <td>59</td>\n",
       "      <td>128</td>\n",
       "      <td>22</td>\n",
       "      <td>7</td>\n",
       "      <td>12</td>\n",
       "      <td>50</td>\n",
       "      <td>23</td>\n",
       "      <td>64</td>\n",
       "      <td>21</td>\n",
       "      <td>21</td>\n",
       "      <td>0</td>\n",
       "      <td>0</td>\n",
       "      <td>1</td>\n",
       "      <td>0</td>\n",
       "    </tr>\n",
       "    <tr>\n",
       "      <th>4</th>\n",
       "      <td>0.273</td>\n",
       "      <td>0.346</td>\n",
       "      <td>87</td>\n",
       "      <td>169</td>\n",
       "      <td>28</td>\n",
       "      <td>5</td>\n",
       "      <td>8</td>\n",
       "      <td>58</td>\n",
       "      <td>70</td>\n",
       "      <td>53</td>\n",
       "      <td>3</td>\n",
       "      <td>8</td>\n",
       "      <td>0</td>\n",
       "      <td>0</td>\n",
       "      <td>1</td>\n",
       "      <td>0</td>\n",
       "    </tr>\n",
       "    <tr>\n",
       "      <th>...</th>\n",
       "      <td>...</td>\n",
       "      <td>...</td>\n",
       "      <td>...</td>\n",
       "      <td>...</td>\n",
       "      <td>...</td>\n",
       "      <td>...</td>\n",
       "      <td>...</td>\n",
       "      <td>...</td>\n",
       "      <td>...</td>\n",
       "      <td>...</td>\n",
       "      <td>...</td>\n",
       "      <td>...</td>\n",
       "      <td>...</td>\n",
       "      <td>...</td>\n",
       "      <td>...</td>\n",
       "      <td>...</td>\n",
       "    </tr>\n",
       "    <tr>\n",
       "      <th>332</th>\n",
       "      <td>0.111</td>\n",
       "      <td>0.138</td>\n",
       "      <td>3</td>\n",
       "      <td>3</td>\n",
       "      <td>0</td>\n",
       "      <td>0</td>\n",
       "      <td>0</td>\n",
       "      <td>1</td>\n",
       "      <td>1</td>\n",
       "      <td>7</td>\n",
       "      <td>0</td>\n",
       "      <td>0</td>\n",
       "      <td>0</td>\n",
       "      <td>0</td>\n",
       "      <td>0</td>\n",
       "      <td>0</td>\n",
       "    </tr>\n",
       "    <tr>\n",
       "      <th>333</th>\n",
       "      <td>0.264</td>\n",
       "      <td>0.318</td>\n",
       "      <td>24</td>\n",
       "      <td>48</td>\n",
       "      <td>7</td>\n",
       "      <td>0</td>\n",
       "      <td>1</td>\n",
       "      <td>22</td>\n",
       "      <td>15</td>\n",
       "      <td>18</td>\n",
       "      <td>0</td>\n",
       "      <td>7</td>\n",
       "      <td>0</td>\n",
       "      <td>0</td>\n",
       "      <td>0</td>\n",
       "      <td>0</td>\n",
       "    </tr>\n",
       "    <tr>\n",
       "      <th>334</th>\n",
       "      <td>0.187</td>\n",
       "      <td>0.281</td>\n",
       "      <td>38</td>\n",
       "      <td>50</td>\n",
       "      <td>9</td>\n",
       "      <td>2</td>\n",
       "      <td>15</td>\n",
       "      <td>37</td>\n",
       "      <td>32</td>\n",
       "      <td>98</td>\n",
       "      <td>0</td>\n",
       "      <td>9</td>\n",
       "      <td>0</td>\n",
       "      <td>0</td>\n",
       "      <td>0</td>\n",
       "      <td>0</td>\n",
       "    </tr>\n",
       "    <tr>\n",
       "      <th>335</th>\n",
       "      <td>0.264</td>\n",
       "      <td>0.270</td>\n",
       "      <td>24</td>\n",
       "      <td>74</td>\n",
       "      <td>16</td>\n",
       "      <td>0</td>\n",
       "      <td>3</td>\n",
       "      <td>27</td>\n",
       "      <td>5</td>\n",
       "      <td>42</td>\n",
       "      <td>0</td>\n",
       "      <td>10</td>\n",
       "      <td>0</td>\n",
       "      <td>0</td>\n",
       "      <td>0</td>\n",
       "      <td>0</td>\n",
       "    </tr>\n",
       "    <tr>\n",
       "      <th>336</th>\n",
       "      <td>0.258</td>\n",
       "      <td>0.395</td>\n",
       "      <td>6</td>\n",
       "      <td>8</td>\n",
       "      <td>1</td>\n",
       "      <td>0</td>\n",
       "      <td>1</td>\n",
       "      <td>6</td>\n",
       "      <td>7</td>\n",
       "      <td>11</td>\n",
       "      <td>0</td>\n",
       "      <td>0</td>\n",
       "      <td>0</td>\n",
       "      <td>0</td>\n",
       "      <td>0</td>\n",
       "      <td>0</td>\n",
       "    </tr>\n",
       "  </tbody>\n",
       "</table>\n",
       "<p>337 rows × 16 columns</p>\n",
       "</div>"
      ],
      "text/plain": [
       "     battingavg    OBP  runs  hits  doubles  triples  homeruns  RBI  walks  \\\n",
       "0         0.272  0.302    69   153       21        4        31  104     22   \n",
       "1         0.269  0.335    58   111       17        2        18   66     39   \n",
       "2         0.249  0.337    54   115       15        1        17   73     63   \n",
       "3         0.260  0.292    59   128       22        7        12   50     23   \n",
       "4         0.273  0.346    87   169       28        5         8   58     70   \n",
       "..          ...    ...   ...   ...      ...      ...       ...  ...    ...   \n",
       "332       0.111  0.138     3     3        0        0         0    1      1   \n",
       "333       0.264  0.318    24    48        7        0         1   22     15   \n",
       "334       0.187  0.281    38    50        9        2        15   37     32   \n",
       "335       0.264  0.270    24    74       16        0         3   27      5   \n",
       "336       0.258  0.395     6     8        1        0         1    6      7   \n",
       "\n",
       "     strikeouts  stolenbases  errors  freeagencyelig  freeagent91  arbelig  \\\n",
       "0            80            4       3               1            0        0   \n",
       "1            69            0       3               1            1        0   \n",
       "2           116            6       5               1            0        0   \n",
       "3            64           21      21               0            0        1   \n",
       "4            53            3       8               0            0        1   \n",
       "..          ...          ...     ...             ...          ...      ...   \n",
       "332           7            0       0               0            0        0   \n",
       "333          18            0       7               0            0        0   \n",
       "334          98            0       9               0            0        0   \n",
       "335          42            0      10               0            0        0   \n",
       "336          11            0       0               0            0        0   \n",
       "\n",
       "     arb91  \n",
       "0        0  \n",
       "1        0  \n",
       "2        0  \n",
       "3        0  \n",
       "4        0  \n",
       "..     ...  \n",
       "332      0  \n",
       "333      0  \n",
       "334      0  \n",
       "335      0  \n",
       "336      0  \n",
       "\n",
       "[337 rows x 16 columns]"
      ]
     },
     "execution_count": 20,
     "metadata": {},
     "output_type": "execute_result"
    }
   ],
   "source": [
    "clean_data = baseball.drop(columns=['salary', 'name'])\n",
    "clean_data\n"
   ]
  },
  {
   "cell_type": "code",
   "execution_count": 12,
   "metadata": {},
   "outputs": [],
   "source": [
    "def fit_full():\n",
    "  all_columns = \"+\".join(baseball.columns.drop('salary').drop('name'))\n",
    "  my_formula = \"np.log(salary)~\" + all_columns\n",
    "  results = smf.ols(my_formula, data=baseball).fit()\n",
    "  print(results.summary())\n"
   ]
  },
  {
   "cell_type": "code",
   "execution_count": 13,
   "metadata": {},
   "outputs": [
    {
     "name": "stdout",
     "output_type": "stream",
     "text": [
      "                            OLS Regression Results                            \n",
      "==============================================================================\n",
      "Dep. Variable:         np.log(salary)   R-squared:                       0.802\n",
      "Model:                            OLS   Adj. R-squared:                  0.792\n",
      "Method:                 Least Squares   F-statistic:                     80.92\n",
      "Date:                Mon, 25 Oct 2021   Prob (F-statistic):          4.63e-102\n",
      "Time:                        23:44:20   Log-Likelihood:                -259.75\n",
      "No. Observations:                 337   AIC:                             553.5\n",
      "Df Residuals:                     320   BIC:                             618.4\n",
      "Df Model:                          16                                         \n",
      "Covariance Type:            nonrobust                                         \n",
      "==================================================================================\n",
      "                     coef    std err          t      P>|t|      [0.025      0.975]\n",
      "----------------------------------------------------------------------------------\n",
      "Intercept          5.3951      0.257     20.976      0.000       4.889       5.901\n",
      "battingavg         0.9018      2.097      0.430      0.667      -3.224       5.027\n",
      "OBP               -2.1970      1.837     -1.196      0.233      -5.811       1.417\n",
      "runs               0.0011      0.004      0.249      0.804      -0.007       0.010\n",
      "hits               0.0049      0.003      1.931      0.054   -9.37e-05       0.010\n",
      "doubles           -0.0024      0.007     -0.359      0.720      -0.015       0.011\n",
      "triples           -0.0168      0.017     -1.007      0.315      -0.050       0.016\n",
      "homeruns           0.0043      0.010      0.440      0.660      -0.015       0.023\n",
      "RBI                0.0099      0.004      2.535      0.012       0.002       0.018\n",
      "walks              0.0052      0.003      1.501      0.134      -0.002       0.012\n",
      "strikeouts        -0.0055      0.002     -3.289      0.001      -0.009      -0.002\n",
      "stolenbases        0.0047      0.004      1.289      0.198      -0.002       0.012\n",
      "errors            -0.0079      0.006     -1.368      0.172      -0.019       0.003\n",
      "freeagencyelig     1.5903      0.084     18.944      0.000       1.425       1.755\n",
      "freeagent91       -0.2596      0.106     -2.440      0.015      -0.469      -0.050\n",
      "arbelig            1.3183      0.091     14.417      0.000       1.138       1.498\n",
      "arb91             -0.0753      0.187     -0.403      0.687      -0.443       0.293\n",
      "==============================================================================\n",
      "Omnibus:                       44.640   Durbin-Watson:                   1.831\n",
      "Prob(Omnibus):                  0.000   Jarque-Bera (JB):              136.062\n",
      "Skew:                          -0.570   Prob(JB):                     2.85e-30\n",
      "Kurtosis:                       5.896   Cond. No.                     1.40e+04\n",
      "==============================================================================\n",
      "\n",
      "Notes:\n",
      "[1] Standard Errors assume that the covariance matrix of the errors is correctly specified.\n",
      "[2] The condition number is large, 1.4e+04. This might indicate that there are\n",
      "strong multicollinearity or other numerical problems.\n"
     ]
    }
   ],
   "source": [
    "fit_full()"
   ]
  },
  {
   "cell_type": "markdown",
   "metadata": {},
   "source": [
    "2. Linear Regression:"
   ]
  },
  {
   "cell_type": "markdown",
   "metadata": {},
   "source": [
    "(a) Partition the data randomly into two sets: the training data D0 and the test\n",
    "data D1 with a ratio about 2:1. Set random_state = 42."
   ]
  },
  {
   "cell_type": "code",
   "execution_count": 21,
   "metadata": {},
   "outputs": [],
   "source": [
    "from sklearn.model_selection import train_test_split\n",
    "x_train, x_test, y_train, y_test = train_test_split(\n",
    "    clean_data, log_salary, test_size=0.33, random_state=42)\n"
   ]
  },
  {
   "cell_type": "markdown",
   "metadata": {},
   "source": [
    "(b) Using the training data D0, apply two variable selection methods:\n",
    "i. Ridge Regression\n",
    "ii. The Lasso"
   ]
  },
  {
   "cell_type": "code",
   "execution_count": 32,
   "metadata": {},
   "outputs": [
    {
     "name": "stderr",
     "output_type": "stream",
     "text": [
      "D:\\Code\\Py\\lib\\site-packages\\sklearn\\linear_model\\_coordinate_descent.py:645: ConvergenceWarning: Objective did not converge. You might want to increase the number of iterations, check the scale of the features or consider increasing regularisation. Duality gap: 2.785e+01, tolerance: 5.350e-02\n",
      "  model = cd_fast.enet_coordinate_descent(\n",
      "D:\\Code\\Py\\lib\\site-packages\\sklearn\\linear_model\\_coordinate_descent.py:645: ConvergenceWarning: Objective did not converge. You might want to increase the number of iterations, check the scale of the features or consider increasing regularisation. Duality gap: 3.079e+01, tolerance: 5.532e-02\n",
      "  model = cd_fast.enet_coordinate_descent(\n",
      "D:\\Code\\Py\\lib\\site-packages\\sklearn\\linear_model\\_coordinate_descent.py:645: ConvergenceWarning: Objective did not converge. You might want to increase the number of iterations, check the scale of the features or consider increasing regularisation. Duality gap: 3.593e+01, tolerance: 5.254e-02\n",
      "  model = cd_fast.enet_coordinate_descent(\n",
      "D:\\Code\\Py\\lib\\site-packages\\sklearn\\linear_model\\_coordinate_descent.py:645: ConvergenceWarning: Objective did not converge. You might want to increase the number of iterations, check the scale of the features or consider increasing regularisation. Duality gap: 2.166e+01, tolerance: 4.882e-02\n",
      "  model = cd_fast.enet_coordinate_descent(\n",
      "D:\\Code\\Py\\lib\\site-packages\\sklearn\\linear_model\\_coordinate_descent.py:645: ConvergenceWarning: Objective did not converge. You might want to increase the number of iterations, check the scale of the features or consider increasing regularisation. Duality gap: 3.442e+01, tolerance: 5.172e-02\n",
      "  model = cd_fast.enet_coordinate_descent(\n"
     ]
    },
    {
     "data": {
      "text/plain": [
       "GridSearchCV(cv=5, estimator=Lasso(),\n",
       "             param_grid={'alpha': [1e-15, 1e-10, 1e-08, 0.001, 0.01, 1, 5, 10,\n",
       "                                   20, 30, 35, 40, 45, 50, 55, 100]},\n",
       "             scoring='neg_mean_squared_error')"
      ]
     },
     "execution_count": 32,
     "metadata": {},
     "output_type": "execute_result"
    }
   ],
   "source": [
    "from sklearn.linear_model import Lasso\n",
    "from sklearn.model_selection import GridSearchCV\n",
    "lasso = Lasso()\n",
    "parameters = {'alpha': [1e-15, 1e-10, 1e-8, 1e-3,\n",
    "                        1e-2, 1, 5, 10, 20, 30, 35, 40, 45, 50, 55, 100]}\n",
    "lasso_regressor = GridSearchCV(\n",
    "    lasso, parameters, scoring='neg_mean_squared_error', cv=5)\n",
    "\n",
    "lasso_regressor.fit(x_train, y_train)\n",
    "\n"
   ]
  },
  {
   "cell_type": "code",
   "execution_count": 23,
   "metadata": {},
   "outputs": [
    {
     "data": {
      "text/plain": [
       "GridSearchCV(cv=5, estimator=Ridge(),\n",
       "             param_grid={'alpha': [1e-15, 1e-10, 1e-08, 0.001, 0.01, 1, 5, 10,\n",
       "                                   20, 30, 35, 40, 45, 50, 55, 100]},\n",
       "             scoring='neg_mean_squared_error')"
      ]
     },
     "execution_count": 23,
     "metadata": {},
     "output_type": "execute_result"
    }
   ],
   "source": [
    "from sklearn.linear_model import Ridge\n",
    "from sklearn.model_selection import GridSearchCV\n",
    "\n",
    "ridge = Ridge()\n",
    "parameters = {'alpha': [1e-15, 1e-10, 1e-8, 1e-3,\n",
    "                        1e-2, 1, 5, 10, 20, 30, 35, 40, 45, 50, 55, 100]}\n",
    "ridge_regressor = GridSearchCV(\n",
    "    ridge, parameters, scoring='neg_mean_squared_error', cv=5)\n",
    "ridge_regressor.fit(x_train, y_train)\n"
   ]
  },
  {
   "cell_type": "markdown",
   "metadata": {},
   "source": [
    "(c) Report the essential steps and/or key quantities involved in each variable\n",
    "selection methods."
   ]
  },
  {
   "cell_type": "markdown",
   "metadata": {},
   "source": [
    "(d) Output the necessary fitting results for each model, e.g., in particular, selected variables and their corresponding slope parameter estimates."
   ]
  },
  {
   "cell_type": "markdown",
   "metadata": {},
   "source": [
    "(e) Apply the models to the test data D1. Output the mean squared error(MSE).\n",
    "Let’s consider the one yielding the minimum MSE as the “best\" final model."
   ]
  },
  {
   "cell_type": "code",
   "execution_count": 24,
   "metadata": {},
   "outputs": [],
   "source": [
    "prediction_lasso = lasso_regressor.predict(x_test)\n",
    "prediction_ridge = ridge_regressor.predict(x_test)\n"
   ]
  },
  {
   "cell_type": "code",
   "execution_count": 34,
   "metadata": {},
   "outputs": [
    {
     "name": "stdout",
     "output_type": "stream",
     "text": [
      "0.7007644629282652\n"
     ]
    }
   ],
   "source": [
    "from sklearn.metrics import mean_squared_error\n",
    "# Calculate the test MSE\n",
    "print(mean_squared_error(y_test, prediction_ridge))\n"
   ]
  },
  {
   "cell_type": "code",
   "execution_count": 35,
   "metadata": {},
   "outputs": [
    {
     "name": "stdout",
     "output_type": "stream",
     "text": [
      "0.7132569981169198\n"
     ]
    }
   ],
   "source": [
    "# Calculate the test MSE\n",
    "print(mean_squared_error(y_test, prediction_lasso))\n"
   ]
  },
  {
   "cell_type": "code",
   "execution_count": 31,
   "metadata": {},
   "outputs": [
    {
     "name": "stderr",
     "output_type": "stream",
     "text": [
      "D:\\Code\\Py\\lib\\site-packages\\seaborn\\distributions.py:2619: FutureWarning: `distplot` is a deprecated function and will be removed in a future version. Please adapt your code to use either `displot` (a figure-level function with similar flexibility) or `histplot` (an axes-level function for histograms).\n",
      "  warnings.warn(msg, FutureWarning)\n"
     ]
    },
    {
     "data": {
      "text/plain": [
       "<AxesSubplot:xlabel='salary', ylabel='Density'>"
      ]
     },
     "execution_count": 31,
     "metadata": {},
     "output_type": "execute_result"
    },
    {
     "data": {
      "image/png": "[encoded data removed]",
      "text/plain": [
       "<Figure size 432x288 with 1 Axes>"
      ]
     },
     "metadata": {
      "needs_background": "light"
     },
     "output_type": "display_data"
    }
   ],
   "source": [
    "sn.distplot(y_test-prediction_lasso)\n"
   ]
  },
  {
   "cell_type": "code",
   "execution_count": 27,
   "metadata": {},
   "outputs": [
    {
     "name": "stderr",
     "output_type": "stream",
     "text": [
      "D:\\Code\\Py\\lib\\site-packages\\seaborn\\distributions.py:2619: FutureWarning: `distplot` is a deprecated function and will be removed in a future version. Please adapt your code to use either `displot` (a figure-level function with similar flexibility) or `histplot` (an axes-level function for histograms).\n",
      "  warnings.warn(msg, FutureWarning)\n"
     ]
    },
    {
     "data": {
      "text/plain": [
       "<AxesSubplot:xlabel='salary', ylabel='Density'>"
      ]
     },
     "execution_count": 27,
     "metadata": {},
     "output_type": "execute_result"
    },
    {
     "data": {
      "image/png": "[encoded data removed]",
      "text/plain": [
       "<Figure size 432x288 with 1 Axes>"
      ]
     },
     "metadata": {
      "needs_background": "light"
     },
     "output_type": "display_data"
    }
   ],
   "source": [
    "sn.distplot(y_test-prediction_ridge)"
   ]
  }
 ],
 "metadata": {
  "interpreter": {
   "hash": "31f2aee4e71d21fbe5cf8b01ff0e069b9275f58929596ceb00d14d90e3e16cd6"
  },
  "kernelspec": {
   "display_name": "Python 3.6.9 64-bit",
   "name": "python3"
  },
  "language_info": {
   "codemirror_mode": {
    "name": "ipython",
    "version": 3
   },
   "file_extension": ".py",
   "mimetype": "text/x-python",
   "name": "python",
   "nbconvert_exporter": "python",
   "pygments_lexer": "ipython3",
   "version": "3.9.7"
  },
  "orig_nbformat": 4
 },
 "nbformat": 4,
 "nbformat_minor": 2
}
